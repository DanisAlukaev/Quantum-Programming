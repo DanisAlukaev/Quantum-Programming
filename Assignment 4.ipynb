{
 "cells": [
  {
   "cell_type": "markdown",
   "id": "9d68c7be",
   "metadata": {},
   "source": [
    "# Assignment 4 — Eigeneverything\n",
    "\n",
    "Course: Quantum Programming <br>\n",
    "Author: Danis Alukaev <br>\n",
    "Group: B19-DS-01 <br>\n",
    "Email: d.alukaev@innopolis.university "
   ]
  },
  {
   "cell_type": "code",
   "execution_count": 1,
   "id": "f19711e9",
   "metadata": {},
   "outputs": [],
   "source": [
    "import warnings\n",
    "warnings.filterwarnings(\"ignore\")"
   ]
  },
  {
   "cell_type": "markdown",
   "id": "8da8f9fd",
   "metadata": {},
   "source": [
    "# Some quantum math\n",
    "\n",
    "We will start our homework with the introduction of the operator of interes $P$. This operator is equivalent to the following graph:\n",
    "\n",
    "| Source | Destination | Weight |\n",
    "|---|---|---|\n",
    "| 0 | 1 | 1 |\n",
    "| 1 | 3 | -1 |\n",
    "| 3 | 2 | i|\n",
    "| 2 | 0 | -i|\n",
    "\n",
    "Your task is to provide an analysis of the operator's matrix: \n",
    "- obtain it's eigenvalues and \n",
    "- eigenvectors \n",
    "given a quantum computer. \n",
    "\n",
    "## Matrix construction and properties\n",
    "\n",
    "For the reference I already solved the same problem using a classical computer."
   ]
  },
  {
   "cell_type": "code",
   "execution_count": 2,
   "id": "395c60d7",
   "metadata": {},
   "outputs": [
    {
     "name": "stdout",
     "output_type": "stream",
     "text": [
      "eigenvalue:  -0.707107 + (0.707107)*j\n",
      "eigenphase: 3/8*π\n",
      "eigenvector: [-0.   +0.5j    0.354-0.354j  0.354-0.354j  0.5  +0.j   ]\n",
      "\n",
      "eigenvalue:  -0.707107 + (-0.707107)*j\n",
      "eigenphase: 5/8*π\n",
      "eigenvector: [-0.354-0.354j  0.5  +0.j    -0.5  -0.j     0.354-0.354j]\n",
      "\n",
      "eigenvalue:  0.707107 + (0.707107)*j\n",
      "eigenphase: 1/8*π\n",
      "eigenvector: [-0.354-0.354j -0.5  -0.j     0.5  +0.j     0.354-0.354j]\n",
      "\n",
      "eigenvalue:  0.707107 + (-0.707107)*j\n",
      "eigenphase: 7/8*π\n",
      "eigenvector: [-0.   +0.5j   -0.354+0.354j -0.354+0.354j  0.5  +0.j   ]\n",
      "\n"
     ]
    }
   ],
   "source": [
    "import numpy as np\n",
    "import cmath\n",
    "from fractions import Fraction\n",
    "\n",
    "\n",
    "np.set_printoptions(precision=3, suppress=True)\n",
    "\n",
    "\n",
    "P = np.zeros((4, 4), dtype=np.complex128)\n",
    "P[1, 0] = 1.\n",
    "P[3, 1] = -1.\n",
    "P[2, 3] = 1j\n",
    "P[0, 2] = -1j\n",
    "\n",
    "e_values, e_vectors = np.linalg.eig(P)\n",
    "\n",
    "for va, ve in zip(e_values, e_vectors.T):\n",
    "    print(f\"eigenvalue:  {va.real:4f} + ({va.imag:4f})*j\")\n",
    "    # %2 is used to obtain positive phases only\n",
    "    frac = Fraction(cmath.phase(va) / (2 * np.pi) % 1).limit_denominator(12)\n",
    "    print(f\"eigenphase: {frac}*π\")\n",
    "    print(f\"eigenvector: {ve}\")\n",
    "    print()"
   ]
  },
  {
   "cell_type": "markdown",
   "id": "5045d526",
   "metadata": {},
   "source": [
    "### This is additional reading\n",
    "These two articles inspired me for the lab.\n",
    "\n",
    "- https://en.wikipedia.org/wiki/Ritz_method\n",
    "- https://qiskit.org/textbook/ch-labs/Lab02_QuantumMeasurement.html\n",
    "\n",
    "What you do here is different, but the schema is the same. Ritz method states that **minimal** energy of the Hamiltonian (Hermitian!) is obtained at the in the eigenstate of this Hamiltonian.\n",
    "\n",
    "Our hypothesis is similar, but DIFFERENT: the **maximum** of the operator (Unitary) is obtained at the eigenstate of the operator."
   ]
  },
  {
   "cell_type": "markdown",
   "id": "0b3bbb85",
   "metadata": {},
   "source": [
    "## Obtaining eigenvector: hybrid algorithm\n",
    "\n",
    "Let us all understand the idea.\n",
    "\n",
    "We know, that $|\\langle \\psi | \\psi \\rangle|^2$ is equal to 1. This formula is equivalent to the circuit, performing initialization of the state, and then - inverse procedure:\n",
    "\n",
    "$1 = \\large |\\langle 0 | init^{\\dagger}_{\\psi} \\times init_{\\psi}| 0\\rangle|^2 = ...$.\n",
    "\n",
    "Due to the linearity of the system, the phase coefficient should not change the norm:\n",
    "\n",
    "$\\large ... = |e^{i\\phi}\\langle 0 | init^{\\dagger}_{\\psi} \\times init_{\\psi}| 0\\rangle|^2 = |\\langle 0 | init^{\\dagger}_{\\psi} \\times e^{i\\phi} \\times init_{\\psi}| 0\\rangle|^2$.\n",
    "\n",
    "If $|\\psi\\rangle$ is an eigenvector of some operator $U$, than this statement is also true:\n",
    "\n",
    "$\\large |\\langle 0 | init^{\\dagger}_{\\psi} \\times U \\times init_{\\psi}| 0\\rangle|^2 = 1$\n",
    "\n",
    "_One can also notice, that this problem is equivalent to computation of `fidelity` between $ |\\psi\\rangle$ and $ U|\\psi\\rangle$._\n",
    "\n",
    "\n",
    "for this formula $|\\langle \\psi|U|\\psi\\rangle|^2$ the value is maximized (and equals to 1) if and only if $|\\psi\\rangle$ is an **eigenvector** of $U$. Thus, given a matrix, we will search for $|\\psi\\rangle$ which is an eigenvector.\n",
    "\n",
    "Your soluting is a hybrid method.\n",
    "\n",
    "**Quantum part**:\n",
    "\n",
    "You will construct an algorithm which will evaluate a fidelity of the guessed state. IRL you cannot observe the vector. So, we construct the circuit of the following form.\n",
    "\n",
    "1. Your code should be wrapped into a function `loss(x: list) -> float`.\n",
    "2. First initialize the state $init_{\\psi}$\n",
    "3. Apply operator of interest $U$.\n",
    "4. Undo initialization computations $init^{\\dagger}_{\\psi}$.\n",
    "5. Measure. Measurement in state $|0\\rangle$ corresponds the fact, that $U$ makes no change (except maybe the phase) to $\\psi$. Report probability of $|0\\rangle$ as the result of the function.\n",
    "\n",
    "**Classical part**:\n",
    "\n",
    "1. Apply optimization method for the function `loss(x)` trying to minimize it's value. We will use [`optimize` module from scipy](https://docs.scipy.org/doc/scipy/reference/generated/scipy.optimize.minimize.html).\n",
    "\n",
    "\n",
    "__Important comment__\n",
    "\n",
    "We search for $\\psi$, which is (in our case) a 4-dimensional complex vector. This gives us 8 degrees of freedom for optimization, which is huuuge. Indeed, we have less (e.g, remove global phase, or consider norming constraint). So, we will prepare an [\"*ansatz*\"](https://en.wikipedia.org/wiki/Ansatz) -- a parametrized guess of the $\\psi$, a circiut which prepares a state given some real-values parameters. You may changed the proposed ansatz, but you don't have to.\n",
    "\n",
    "\n",
    "## So let us compose things together\n",
    "\n",
    "Here are constants, and the method which prepares ansatz for you."
   ]
  },
  {
   "cell_type": "code",
   "execution_count": 3,
   "id": "6374cc49",
   "metadata": {},
   "outputs": [],
   "source": [
    "# constants and pre-definitions\n",
    "from qiskit import BasicAer, QuantumCircuit, execute\n",
    "\n",
    "backend = BasicAer.get_backend('qasm_simulator')\n",
    "SHOTS = 10000\n",
    "PARAMS_COUNT = 5\n",
    "\n",
    "def _ansatz(theta):\n",
    "    circuit = QuantumCircuit(2)  \n",
    "    circuit.ry(theta[0], 0)\n",
    "    circuit.ry(theta[1], 1)\n",
    "    circuit.crx(theta[2], 0, 1)\n",
    "    circuit.rz(theta[3], 0)\n",
    "    circuit.rz(theta[4], 1)\n",
    "    return circuit"
   ]
  },
  {
   "cell_type": "markdown",
   "id": "115f486b",
   "metadata": {},
   "source": [
    "### Computing fidelity.\n",
    "\n",
    "Complete the method, which computes fidelity between $|ansatz\\rangle$ and $U|ansatz\\rangle$. Refer to the [definition of fidelity](https://en.wikipedia.org/wiki/Fidelity_of_quantum_states) if needed."
   ]
  },
  {
   "cell_type": "code",
   "execution_count": 4,
   "id": "8569c451",
   "metadata": {},
   "outputs": [
    {
     "data": {
      "text/plain": [
       "0.2831"
      ]
     },
     "execution_count": 4,
     "metadata": {},
     "output_type": "execute_result"
    }
   ],
   "source": [
    "def compute_fidelity(theta, operator):\n",
    "    qc = QuantumCircuit(2)\n",
    "    qbits_idxs = range(2)\n",
    "    \n",
    "    # your system starts in |0>\n",
    "    # 1. now you need to initialize the guess of PSI\n",
    "    # TODO - your code here \n",
    "    # [10] points\n",
    "    psi = _ansatz(theta)\n",
    "    qc.append(psi, qbits_idxs)\n",
    "    \n",
    "    # 2. Then you run the operator of your interest\n",
    "    # TODO - your code here\n",
    "    # [10] points\n",
    "    qc.unitary(operator, qbits_idxs)\n",
    "\n",
    "    # 3. Undo operations for state preparation\n",
    "    # TODO - your code here\n",
    "    # [10] points\n",
    "    qc.append(psi.inverse(), qbits_idxs)\n",
    "    \n",
    "    qc.measure_all()   \n",
    "    counts = execute(qc, backend, shots=SHOTS).result().get_counts()\n",
    "    \n",
    "    # 4. compute the fidelity estimation.\n",
    "    # TODO - your code here\n",
    "    # [20] points\n",
    "    _00 = counts.get('00') if '00' in counts else 0\n",
    "    fidelity = _00 / sum([b for a,b in counts.items()])\n",
    "    return fidelity\n",
    "    \n",
    "\n",
    "def loss(theta):\n",
    "    ''' Loss function will be minimized for operator P \n",
    "    '''\n",
    "    return 1. - compute_fidelity(theta, P)\n",
    "    \n",
    "\n",
    "# usage exasample\n",
    "compute_fidelity(theta=[1, -1, 1, -1, 0.5], operator=P)"
   ]
  },
  {
   "cell_type": "markdown",
   "id": "10127877",
   "metadata": {},
   "source": [
    "### Let's apply the method and print results\n",
    "\n",
    "Even if variational methods utilitize iterative optimization tools (like gradient descent), the probabilistic nature of the measurement may lead to a very bad convergence. Still, you may try them by changing `shgo` (global) to `minimize` call.\n",
    "\n",
    "We will launch hybrid algorithm 3 times to obtain the best approximation."
   ]
  },
  {
   "cell_type": "code",
   "execution_count": 5,
   "id": "1b853a5b",
   "metadata": {},
   "outputs": [
    {
     "name": "stdout",
     "output_type": "stream",
     "text": [
      "     fun: 0.12339999999999995\n",
      "    funl: array([0.123, 0.181, 0.429, 0.457, 0.563])\n",
      " message: 'Optimization terminated successfully.'\n",
      "    nfev: 226\n",
      "     nit: 2\n",
      "   nlfev: 126\n",
      "   nlhev: 0\n",
      "   nljev: 11\n",
      " success: True\n",
      "       x: array([ 1.959, -1.792, -1.967,  0.006, -0.774])\n",
      "      xl: array([[ 1.959, -1.792, -1.967,  0.006, -0.774],\n",
      "       [-1.281, -1.715, -0.61 ,  2.846, -0.306],\n",
      "       [-2.116,  1.181, -2.068,  0.519,  2.03 ],\n",
      "       [-1.134,  1.698,  0.295, -0.25 , -1.708],\n",
      "       [ 2.057,  1.147,  0.749,  0.286,  1.813]])\n",
      "Achieved fidelity: 0.8708\n",
      "Ansatz circuit:\n"
     ]
    },
    {
     "data": {
      "image/png": "[encoded data removed]",
      "text/plain": [
       "<Figure size 370.906x200.667 with 1 Axes>"
      ]
     },
     "metadata": {},
     "output_type": "display_data"
    },
    {
     "name": "stdout",
     "output_type": "stream",
     "text": [
      "Statevector (almost eigevector) [ 0.323+0.13j   0.471-0.39j  -0.403+0.166j -0.171+0.535j]\n",
      "     fun: 0.09289999999999998\n",
      "    funl: array([0.093, 0.259, 0.305])\n",
      " message: 'Optimization terminated successfully.'\n",
      "    nfev: 182\n",
      "     nit: 2\n",
      "   nlfev: 82\n",
      "   nlhev: 0\n",
      "   nljev: 7\n",
      " success: True\n",
      "       x: array([ 1.574, -1.978,  0.835, -1.315, -0.667])\n",
      "      xl: array([[ 1.574, -1.978,  0.835, -1.315, -0.667],\n",
      "       [-1.861, -1.616, -0.922, -0.568,  3.002],\n",
      "       [ 2.261,  1.513, -1.929,  1.103, -1.238]])\n",
      "Achieved fidelity: 0.911\n",
      "Ansatz circuit:\n"
     ]
    },
    {
     "data": {
      "image/png": "[encoded data removed]",
      "text/plain": [
       "<Figure size 370.906x200.667 with 1 Axes>"
      ]
     },
     "metadata": {},
     "output_type": "display_data"
    },
    {
     "name": "stdout",
     "output_type": "stream",
     "text": [
      "Statevector (almost eigevector) [ 0.213+0.325j  0.414+0.114j -0.559-0.188j -0.428+0.366j]\n",
      "     fun: 0.07589999999999997\n",
      "    funl: array([0.076, 0.26 , 0.454, 0.478])\n",
      " message: 'Optimization terminated successfully.'\n",
      "    nfev: 172\n",
      "     nit: 2\n",
      "   nlfev: 72\n",
      "   nlhev: 0\n",
      "   nljev: 7\n",
      " success: True\n",
      "       x: array([-1.519, -1.336,  0.859, -1.495,  2.17 ])\n",
      "      xl: array([[-1.519, -1.336,  0.859, -1.495,  2.17 ],\n",
      "       [-2.043, -1.557,  0.013,  2.848, -0.416],\n",
      "       [ 2.212, -1.673,  3.121,  0.429, -3.075],\n",
      "       [ 1.328,  2.051, -0.901, -0.395,  1.962]])\n",
      "Achieved fidelity: 0.925\n",
      "Ansatz circuit:\n"
     ]
    },
    {
     "data": {
      "image/png": "[encoded data removed]",
      "text/plain": [
       "<Figure size 370.906x200.667 with 1 Axes>"
      ]
     },
     "metadata": {},
     "output_type": "display_data"
    },
    {
     "name": "stdout",
     "output_type": "stream",
     "text": [
      "Statevector (almost eigevector) [ 0.537-0.189j -0.045+0.52j   0.116-0.434j  0.291+0.341j]\n"
     ]
    }
   ],
   "source": [
    "from scipy.optimize import minimize, shgo\n",
    "from math import pi\n",
    "\n",
    "best_vector = None\n",
    "best_fidelity = -1.\n",
    "\n",
    "for i in range(3):\n",
    "    # this is the main part of the code\n",
    "    global_minimum = shgo(\n",
    "            loss, \n",
    "            [(-pi, pi)] * PARAMS_COUNT, \n",
    "            sampling_method='halton')\n",
    "    print(global_minimum)\n",
    "    \n",
    "    \n",
    "    # here is some visualization\n",
    "    fid = compute_fidelity(global_minimum.x, P)\n",
    "    print(f\"Achieved fidelity: {fid}\")\n",
    "    \n",
    "    print(\"Ansatz circuit:\")\n",
    "    qc = QuantumCircuit(2)\n",
    "    qc.append(_ansatz(global_minimum.x), [0, 1])\n",
    "    display(qc.decompose().draw('mpl'))\n",
    "    \n",
    "    sv = execute(qc, \n",
    "                 BasicAer.get_backend('statevector_simulator')\n",
    "                ).result().get_statevector()\n",
    "    if best_fidelity < compute_fidelity(global_minimum.x, P):\n",
    "        best_fidelity = fid\n",
    "        best_vector = sv\n",
    "        \n",
    "    print(\"Statevector (almost eigevector)\", sv)"
   ]
  },
  {
   "cell_type": "markdown",
   "id": "5513a7e1",
   "metadata": {},
   "source": [
    "### Compare your vector with the precomputed ones."
   ]
  },
  {
   "cell_type": "code",
   "execution_count": 6,
   "id": "0f4e9288",
   "metadata": {},
   "outputs": [
    {
     "name": "stdout",
     "output_type": "stream",
     "text": [
      "Fidelity is: 0.0039; corresponding eigenphase: 2.3561944901923457\n",
      "Fidelity is: 0.9655; corresponding eigenphase: -2.3561944901923453\n",
      "Fidelity is: 0.0036; corresponding eigenphase: 0.7853981633974483\n",
      "Fidelity is: 0.0269; corresponding eigenphase: -0.7853981633974483\n"
     ]
    }
   ],
   "source": [
    "from qiskit.quantum_info import Statevector\n",
    "\n",
    "for val, vec in zip(e_values, e_vectors.T):\n",
    "    from qiskit.quantum_info import state_fidelity, Statevector\n",
    "    \n",
    "    fi = state_fidelity(best_vector, Statevector(vec))\n",
    "    print(f\"Fidelity is: {fi:.4f}; corresponding eigenphase: {cmath.phase(val)}\")"
   ]
  },
  {
   "cell_type": "markdown",
   "id": "9ec50cf0",
   "metadata": {},
   "source": [
    "## QPE: quantum phase estimation\n",
    "\n",
    "QPE is an algorithm which estimates phase value (in shares of full circle). Apply it to obtain the value of the eigenphase and eigenvalue."
   ]
  },
  {
   "cell_type": "code",
   "execution_count": 7,
   "id": "0e12ead6",
   "metadata": {},
   "outputs": [
    {
     "data": {
      "image/png": "[encoded data removed]",
      "text/plain": [
       "<Figure size 519.998x309.361 with 1 Axes>"
      ]
     },
     "execution_count": 7,
     "metadata": {},
     "output_type": "execute_result"
    }
   ],
   "source": [
    "from qiskit.circuit.library import PhaseEstimation\n",
    "from qiskit.extensions import UnitaryGate\n",
    "\n",
    "PRECISION = 4\n",
    "\n",
    "qc = QuantumCircuit(PRECISION + 2, PRECISION)\n",
    "\n",
    "# TODO: implemend a QPE circuit for `best_vector` vector.\n",
    "# [30] points\n",
    "qc.initialize(best_vector, [4, 5])\n",
    "qpe = PhaseEstimation(PRECISION, UnitaryGate(P))\n",
    "qc.append(qpe, range(PRECISION + 2))\n",
    "qc.measure(range(PRECISION), range(PRECISION))\n",
    "\n",
    "qc.draw('mpl', scale=.5)"
   ]
  },
  {
   "cell_type": "code",
   "execution_count": 8,
   "id": "d49417c0",
   "metadata": {},
   "outputs": [
    {
     "data": {
      "image/png": "[encoded data removed]",
      "text/plain": [
       "<Figure size 700x500 with 1 Axes>"
      ]
     },
     "execution_count": 8,
     "metadata": {},
     "output_type": "execute_result"
    }
   ],
   "source": [
    "counts = execute(qc, backend, shots=10000).result().get_counts()\n",
    "from qiskit.visualization import plot_histogram\n",
    "plot_histogram(counts)"
   ]
  },
  {
   "cell_type": "code",
   "execution_count": 9,
   "id": "5686704b",
   "metadata": {},
   "outputs": [
    {
     "name": "stdout",
     "output_type": "stream",
     "text": [
      "5/8*π\n"
     ]
    }
   ],
   "source": [
    "# TODO print the correct extimation of the eigenphase \n",
    "# given the results of measurement\n",
    "# write your code here\n",
    "# [20] points\n",
    "print(f\"{int(sorted(list(counts), key=lambda x: x[1], reverse=True)[0], base=2)}/8*π\")"
   ]
  }
 ],
 "metadata": {
  "kernelspec": {
   "display_name": "Python 3 (ipykernel)",
   "language": "python",
   "name": "python3"
  },
  "language_info": {
   "codemirror_mode": {
    "name": "ipython",
    "version": 3
   },
   "file_extension": ".py",
   "mimetype": "text/x-python",
   "name": "python",
   "nbconvert_exporter": "python",
   "pygments_lexer": "ipython3",
   "version": "3.9.13"
  }
 },
 "nbformat": 4,
 "nbformat_minor": 5
}
