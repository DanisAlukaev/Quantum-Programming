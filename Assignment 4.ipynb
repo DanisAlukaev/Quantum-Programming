{
 "cells": [
  {
   "cell_type": "markdown",
   "id": "53c6e8e0",
   "metadata": {},
   "source": [
    "# Assignment 4 — Eigeneverything\n",
    "\n",
    "Course: Quantum Programming <br>\n",
    "Author: Danis Alukaev <br>\n",
    "Group: B19-DS-01 <br>\n",
    "Email: d.alukaev@innopolis.university "
   ]
  },
  {
   "cell_type": "code",
   "execution_count": null,
   "id": "97aa3574",
   "metadata": {},
   "outputs": [],
   "source": [
    "import warnings\n",
    "warnings.filterwarnings(\"ignore\")"
   ]
  },
  {
   "cell_type": "markdown",
   "id": "8dec31fc",
   "metadata": {},
   "source": [
    "# Some quantum math\n",
    "\n",
    "We will start our homework with the introduction of the operator of interes $P$. This operator is equivalent to the following graph:\n",
    "\n",
    "| Source | Destination | Weight |\n",
    "|---|---|---|\n",
    "| 0 | 1 | 1 |\n",
    "| 1 | 3 | -1 |\n",
    "| 3 | 2 | i|\n",
    "| 2 | 0 | -i|\n",
    "\n",
    "Your task is to provide an analysis of the operator's matrix: \n",
    "- obtain it's eigenvalues and \n",
    "- eigenvectors \n",
    "given a quantum computer. \n",
    "\n",
    "## Matrix construction and properties\n",
    "\n",
    "For the reference I already solved the same problem using a classical computer."
   ]
  },
  {
   "cell_type": "code",
   "execution_count": 2,
   "id": "1a727f10",
   "metadata": {},
   "outputs": [
    {
     "name": "stdout",
     "output_type": "stream",
     "text": [
      "eigenvalue:  -0.707107 + (0.707107)*j\n",
      "eigenphase: 3/8*π\n",
      "eigenvector: [-0.   +0.5j    0.354-0.354j  0.354-0.354j  0.5  +0.j   ]\n",
      "\n",
      "eigenvalue:  -0.707107 + (-0.707107)*j\n",
      "eigenphase: 5/8*π\n",
      "eigenvector: [-0.354-0.354j  0.5  +0.j    -0.5  -0.j     0.354-0.354j]\n",
      "\n",
      "eigenvalue:  0.707107 + (0.707107)*j\n",
      "eigenphase: 1/8*π\n",
      "eigenvector: [-0.354-0.354j -0.5  -0.j     0.5  +0.j     0.354-0.354j]\n",
      "\n",
      "eigenvalue:  0.707107 + (-0.707107)*j\n",
      "eigenphase: 7/8*π\n",
      "eigenvector: [-0.   +0.5j   -0.354+0.354j -0.354+0.354j  0.5  +0.j   ]\n",
      "\n"
     ]
    }
   ],
   "source": [
    "import numpy as np\n",
    "import cmath\n",
    "from fractions import Fraction\n",
    "\n",
    "\n",
    "np.set_printoptions(precision=3, suppress=True)\n",
    "\n",
    "\n",
    "P = np.zeros((4, 4), dtype=np.complex128)\n",
    "P[1, 0] = 1.\n",
    "P[3, 1] = -1.\n",
    "P[2, 3] = 1j\n",
    "P[0, 2] = -1j\n",
    "\n",
    "e_values, e_vectors = np.linalg.eig(P)\n",
    "\n",
    "for va, ve in zip(e_values, e_vectors.T):\n",
    "    print(f\"eigenvalue:  {va.real:4f} + ({va.imag:4f})*j\")\n",
    "    # %2 is used to obtain positive phases only\n",
    "    frac = Fraction(cmath.phase(va) / (2 * np.pi) % 1).limit_denominator(12)\n",
    "    print(f\"eigenphase: {frac}*π\")\n",
    "    print(f\"eigenvector: {ve}\")\n",
    "    print()"
   ]
  },
  {
   "cell_type": "markdown",
   "id": "089ef317",
   "metadata": {},
   "source": [
    "### This is additional reading\n",
    "These two articles inspired me for the lab.\n",
    "\n",
    "- https://en.wikipedia.org/wiki/Ritz_method\n",
    "- https://qiskit.org/textbook/ch-labs/Lab02_QuantumMeasurement.html\n",
    "\n",
    "What you do here is different, but the schema is the same. Ritz method states that **minimal** energy of the Hamiltonian (Hermitian!) is obtained at the in the eigenstate of this Hamiltonian.\n",
    "\n",
    "Our hypothesis is similar, but DIFFERENT: the **maximum** of the operator (Unitary) is obtained at the eigenstate of the operator."
   ]
  },
  {
   "cell_type": "markdown",
   "id": "9b9ee3ef",
   "metadata": {},
   "source": [
    "## Obtaining eigenvector: hybrid algorithm\n",
    "\n",
    "Let us all understand the idea.\n",
    "\n",
    "We know, that $|\\langle \\psi | \\psi \\rangle|^2$ is equal to 1. This formula is equivalent to the circuit, performing initialization of the state, and then - inverse procedure:\n",
    "\n",
    "$1 = \\large |\\langle 0 | init^{\\dagger}_{\\psi} \\times init_{\\psi}| 0\\rangle|^2 = ...$.\n",
    "\n",
    "Due to the linearity of the system, the phase coefficient should not change the norm:\n",
    "\n",
    "$\\large ... = |e^{i\\phi}\\langle 0 | init^{\\dagger}_{\\psi} \\times init_{\\psi}| 0\\rangle|^2 = |\\langle 0 | init^{\\dagger}_{\\psi} \\times e^{i\\phi} \\times init_{\\psi}| 0\\rangle|^2$.\n",
    "\n",
    "If $|\\psi\\rangle$ is an eigenvector of some operator $U$, than this statement is also true:\n",
    "\n",
    "$\\large |\\langle 0 | init^{\\dagger}_{\\psi} \\times U \\times init_{\\psi}| 0\\rangle|^2 = 1$\n",
    "\n",
    "_One can also notice, that this problem is equivalent to computation of `fidelity` between $ |\\psi\\rangle$ and $ U|\\psi\\rangle$._\n",
    "\n",
    "\n",
    "for this formula $|\\langle \\psi|U|\\psi\\rangle|^2$ the value is maximized (and equals to 1) if and only if $|\\psi\\rangle$ is an **eigenvector** of $U$. Thus, given a matrix, we will search for $|\\psi\\rangle$ which is an eigenvector.\n",
    "\n",
    "Your soluting is a hybrid method.\n",
    "\n",
    "**Quantum part**:\n",
    "\n",
    "You will construct an algorithm which will evaluate a fidelity of the guessed state. IRL you cannot observe the vector. So, we construct the circuit of the following form.\n",
    "\n",
    "1. Your code should be wrapped into a function `loss(x: list) -> float`.\n",
    "2. First initialize the state $init_{\\psi}$\n",
    "3. Apply operator of interest $U$.\n",
    "4. Undo initialization computations $init^{\\dagger}_{\\psi}$.\n",
    "5. Measure. Measurement in state $|0\\rangle$ corresponds the fact, that $U$ makes no change (except maybe the phase) to $\\psi$. Report probability of $|0\\rangle$ as the result of the function.\n",
    "\n",
    "**Classical part**:\n",
    "\n",
    "1. Apply optimization method for the function `loss(x)` trying to minimize it's value. We will use [`optimize` module from scipy](https://docs.scipy.org/doc/scipy/reference/generated/scipy.optimize.minimize.html).\n",
    "\n",
    "\n",
    "__Important comment__\n",
    "\n",
    "We search for $\\psi$, which is (in our case) a 4-dimensional complex vector. This gives us 8 degrees of freedom for optimization, which is huuuge. Indeed, we have less (e.g, remove global phase, or consider norming constraint). So, we will prepare an [\"*ansatz*\"](https://en.wikipedia.org/wiki/Ansatz) -- a parametrized guess of the $\\psi$, a circiut which prepares a state given some real-values parameters. You may changed the proposed ansatz, but you don't have to.\n",
    "\n",
    "\n",
    "## So let us compose things together\n",
    "\n",
    "Here are constants, and the method which prepares ansatz for you."
   ]
  },
  {
   "cell_type": "code",
   "execution_count": 3,
   "id": "0064fb2e",
   "metadata": {},
   "outputs": [],
   "source": [
    "# constants and pre-definitions\n",
    "from qiskit import BasicAer, QuantumCircuit, execute\n",
    "\n",
    "backend = BasicAer.get_backend('qasm_simulator')\n",
    "SHOTS = 10000\n",
    "PARAMS_COUNT = 5\n",
    "\n",
    "def _ansatz(theta):\n",
    "    circuit = QuantumCircuit(2)  \n",
    "    circuit.ry(theta[0], 0)\n",
    "    circuit.ry(theta[1], 1)\n",
    "    circuit.crx(theta[2], 0, 1)\n",
    "    circuit.rz(theta[3], 0)\n",
    "    circuit.rz(theta[4], 1)\n",
    "    return circuit"
   ]
  },
  {
   "cell_type": "markdown",
   "id": "0264a6c7",
   "metadata": {},
   "source": [
    "### Computing fidelity.\n",
    "\n",
    "Complete the method, which computes fidelity between $|ansatz\\rangle$ and $U|ansatz\\rangle$. Refer to the [definition of fidelity](https://en.wikipedia.org/wiki/Fidelity_of_quantum_states) if needed."
   ]
  },
  {
   "cell_type": "code",
   "execution_count": 4,
   "id": "f89cc5ae",
   "metadata": {},
   "outputs": [
    {
     "data": {
      "text/plain": [
       "0.2716"
      ]
     },
     "execution_count": 4,
     "metadata": {},
     "output_type": "execute_result"
    }
   ],
   "source": [
    "def compute_fidelity(theta, operator):\n",
    "    qc = QuantumCircuit(2)\n",
    "    qbits_idxs = range(2)\n",
    "    \n",
    "    # your system starts in |0>\n",
    "    # 1. now you need to initialize the guess of PSI\n",
    "    # TODO - your code here \n",
    "    # [10] points\n",
    "    psi = _ansatz(theta)\n",
    "    qc.append(psi, qbits_idxs)\n",
    "    \n",
    "    # 2. Then you run the operator of your interest\n",
    "    # TODO - your code here\n",
    "    # [10] points\n",
    "    qc.unitary(operator, qbits_idxs)\n",
    "\n",
    "    # 3. Undo operations for state preparation\n",
    "    # TODO - your code here\n",
    "    # [10] points\n",
    "    qc.append(psi.inverse(), qbits_idxs)\n",
    "    \n",
    "    qc.measure_all()   \n",
    "    counts = execute(qc, backend, shots=SHOTS).result().get_counts()\n",
    "    \n",
    "    # 4. compute the fidelity estimation.\n",
    "    # TODO - your code here\n",
    "    # [20] points\n",
    "    _00 = counts.get('00') if '00' in counts else 0\n",
    "    fidelity = _00 / sum([b for a,b in counts.items()])\n",
    "    return fidelity\n",
    "    \n",
    "\n",
    "def loss(theta):\n",
    "    ''' Loss function will be minimized for operator P \n",
    "    '''\n",
    "    return 1. - compute_fidelity(theta, P)\n",
    "    \n",
    "\n",
    "# usage exasample\n",
    "compute_fidelity(theta=[1, -1, 1, -1, 0.5], operator=P)"
   ]
  },
  {
   "cell_type": "markdown",
   "id": "11060c32",
   "metadata": {},
   "source": [
    "### Let's apply the method and print results\n",
    "\n",
    "Even if variational methods utilitize iterative optimization tools (like gradient descent), the probabilistic nature of the measurement may lead to a very bad convergence. Still, you may try them by changing `shgo` (global) to `minimize` call.\n",
    "\n",
    "We will launch hybrid algorithm 3 times to obtain the best approximation."
   ]
  },
  {
   "cell_type": "code",
   "execution_count": 5,
   "id": "4eaabb5d",
   "metadata": {},
   "outputs": [
    {
     "name": "stdout",
     "output_type": "stream",
     "text": [
      "     fun: 0.37860000000000005\n",
      "    funl: array([0.379, 0.45 , 0.52 ])\n",
      " message: 'Optimization terminated successfully.'\n",
      "    nfev: 150\n",
      "     nit: 2\n",
      "   nlfev: 50\n",
      "   nlhev: 0\n",
      "   nljev: 5\n",
      " success: True\n",
      "       x: array([-1.866,  1.396, -2.699, -2.642, -1.555])\n",
      "      xl: array([[-1.866,  1.396, -2.699, -2.642, -1.555],\n",
      "       [ 2.454, -1.862, -0.94 , -0.59 , -1.607],\n",
      "       [-1.667,  0.464, -1.69 ,  2.105,  1.817]])\n",
      "Achieved fidelity: 0.6212\n",
      "Ansatz circuit:\n"
     ]
    },
    {
     "data": {
      "image/png": "[encoded data removed]",
      "text/plain": [
       "<Figure size 370.906x200.667 with 1 Axes>"
      ]
     },
     "metadata": {},
     "output_type": "display_data"
    },
    {
     "name": "stdout",
     "output_type": "stream",
     "text": [
      "Statevector (almost eigevector) [-0.23 +0.394j -0.376-0.361j  0.327+0.198j -0.462+0.4j  ]\n",
      "\n",
      "\n",
      "     fun: 0.2056\n",
      "    funl: array([0.206, 0.47 ])\n",
      " message: 'Optimization terminated successfully.'\n",
      "    nfev: 128\n",
      "     nit: 2\n",
      "   nlfev: 28\n",
      "   nlhev: 0\n",
      "   nljev: 3\n",
      " success: True\n",
      "       x: array([-1.462,  2.093, -1.574,  1.33 ,  2.581])\n",
      "      xl: array([[-1.462,  2.093, -1.574,  1.33 ,  2.581],\n",
      "       [-1.51 , -1.496,  1.243,  2.489, -1.568]])\n",
      "Achieved fidelity: 0.7882\n",
      "Ansatz circuit:\n"
     ]
    },
    {
     "data": {
      "image/png": "[encoded data removed]",
      "text/plain": [
       "<Figure size 370.906x200.667 with 1 Axes>"
      ]
     },
     "metadata": {},
     "output_type": "display_data"
    },
    {
     "name": "stdout",
     "output_type": "stream",
     "text": [
      "Statevector (almost eigevector) [-0.14 -0.345j -0.431-0.194j  0.522+0.377j  0.373-0.289j]\n",
      "\n",
      "\n",
      "     fun: 0.138\n",
      "    funl: array([0.138, 0.265, 0.387, 0.462])\n",
      " message: 'Optimization terminated successfully.'\n",
      "    nfev: 172\n",
      "     nit: 2\n",
      "   nlfev: 72\n",
      "   nlhev: 0\n",
      "   nljev: 7\n",
      " success: True\n",
      "       x: array([ 1.93 , -1.337,  2.132,  1.298,  2.533])\n",
      "      xl: array([[ 1.93 , -1.337,  2.132,  1.298,  2.533],\n",
      "       [-1.25 , -1.719, -2.695,  0.828,  1.707],\n",
      "       [-1.31 ,  2.076, -1.085,  1.811, -2.971],\n",
      "       [ 1.144,  0.757,  1.629,  3.093, -0.323]])\n",
      "Achieved fidelity: 0.8592\n",
      "Ansatz circuit:\n"
     ]
    },
    {
     "data": {
      "image/png": "[encoded data removed]",
      "text/plain": [
       "<Figure size 370.906x200.667 with 1 Axes>"
      ]
     },
     "metadata": {},
     "output_type": "display_data"
    },
    {
     "name": "stdout",
     "output_type": "stream",
     "text": [
      "Statevector (almost eigevector) [-0.151-0.421j  0.513+0.183j -0.288-0.205j  0.615-0.041j]\n",
      "\n",
      "\n"
     ]
    }
   ],
   "source": [
    "from scipy.optimize import minimize, shgo\n",
    "from math import pi\n",
    "\n",
    "best_vector = None\n",
    "best_fidelity = -1.\n",
    "\n",
    "for i in range(3):\n",
    "    # this is the main part of the code\n",
    "    global_minimum = shgo(\n",
    "            loss, \n",
    "            [(-pi, pi)] * PARAMS_COUNT, \n",
    "            sampling_method='halton')\n",
    "    print(global_minimum)\n",
    "    \n",
    "    \n",
    "    # here is some visualization\n",
    "    fid = compute_fidelity(global_minimum.x, P)\n",
    "    print(f\"Achieved fidelity: {fid}\")\n",
    "    \n",
    "    print(\"Ansatz circuit:\")\n",
    "    qc = QuantumCircuit(2)\n",
    "    qc.append(_ansatz(global_minimum.x), [0, 1])\n",
    "    display(qc.decompose().draw('mpl'))\n",
    "    \n",
    "    sv = execute(qc, \n",
    "                 BasicAer.get_backend('statevector_simulator')\n",
    "                ).result().get_statevector()\n",
    "    if best_fidelity < compute_fidelity(global_minimum.x, P):\n",
    "        best_fidelity = fid\n",
    "        best_vector = sv\n",
    "        \n",
    "    print(\"Statevector (almost eigevector)\", sv)\n",
    "    print(\"\\n\")"
   ]
  },
  {
   "cell_type": "markdown",
   "id": "8b82b41d",
   "metadata": {},
   "source": [
    "### Compare your vector with the precomputed ones."
   ]
  },
  {
   "cell_type": "code",
   "execution_count": 6,
   "id": "2d34e5f3",
   "metadata": {},
   "outputs": [
    {
     "name": "stdout",
     "output_type": "stream",
     "text": [
      "Fidelity is: 0.0500; corresponding eigenphase: 2.3561944901923457\n",
      "Fidelity is: 0.9376; corresponding eigenphase: -2.3561944901923453\n",
      "Fidelity is: 0.0120; corresponding eigenphase: 0.7853981633974483\n",
      "Fidelity is: 0.0004; corresponding eigenphase: -0.7853981633974483\n"
     ]
    }
   ],
   "source": [
    "from qiskit.quantum_info import Statevector\n",
    "\n",
    "for val, vec in zip(e_values, e_vectors.T):\n",
    "    from qiskit.quantum_info import state_fidelity, Statevector\n",
    "    \n",
    "    fi = state_fidelity(best_vector, Statevector(vec))\n",
    "    print(f\"Fidelity is: {fi:.4f}; corresponding eigenphase: {cmath.phase(val)}\")"
   ]
  },
  {
   "cell_type": "markdown",
   "id": "e0cbd280",
   "metadata": {},
   "source": [
    "## QPE: quantum phase estimation\n",
    "\n",
    "QPE is an algorithm which estimates phase value (in shares of full circle). Apply it to obtain the value of the eigenphase and eigenvalue."
   ]
  },
  {
   "cell_type": "code",
   "execution_count": 7,
   "id": "bd2a0603",
   "metadata": {},
   "outputs": [
    {
     "data": {
      "image/png": "[encoded data removed]",
      "text/plain": [
       "<Figure size 561.804x309.361 with 1 Axes>"
      ]
     },
     "execution_count": 7,
     "metadata": {},
     "output_type": "execute_result"
    }
   ],
   "source": [
    "from qiskit.circuit.library import PhaseEstimation\n",
    "from qiskit.extensions import UnitaryGate\n",
    "\n",
    "PRECISION = 4\n",
    "\n",
    "qc = QuantumCircuit(PRECISION + 2, PRECISION)\n",
    "\n",
    "# TODO: implemend a QPE circuit for `best_vector` vector.\n",
    "# [30] points\n",
    "qpe = PhaseEstimation(PRECISION, UnitaryGate(P))\n",
    "qc.initialize(best_vector, [4, 5])\n",
    "qc.append(qpe, range(PRECISION + 2))\n",
    "qc.measure(range(PRECISION), range(PRECISION))\n",
    "\n",
    "qc.draw('mpl', scale=.5)"
   ]
  },
  {
   "cell_type": "code",
   "execution_count": 8,
   "id": "462f37a1",
   "metadata": {},
   "outputs": [
    {
     "data": {
      "image/png": "[encoded data removed]",
      "text/plain": [
       "<Figure size 700x500 with 1 Axes>"
      ]
     },
     "execution_count": 8,
     "metadata": {},
     "output_type": "execute_result"
    }
   ],
   "source": [
    "counts = execute(qc, backend, shots=10000).result().get_counts()\n",
    "from qiskit.visualization import plot_histogram\n",
    "plot_histogram(counts)"
   ]
  },
  {
   "cell_type": "code",
   "execution_count": 9,
   "id": "8a0e1de0",
   "metadata": {},
   "outputs": [
    {
     "name": "stdout",
     "output_type": "stream",
     "text": [
      "5/8*π\n"
     ]
    }
   ],
   "source": [
    "# TODO print the correct extimation of the eigenphase \n",
    "# given the results of measurement\n",
    "# write your code here\n",
    "# [20] points\n",
    "print(f\"{Fraction(int(sorted(list(counts.items()), key=lambda x: x[1], reverse=True)[0][0], base=2) / 8)}*π\")"
   ]
  }
 ],
 "metadata": {
  "kernelspec": {
   "display_name": "Python 3 (ipykernel)",
   "language": "python",
   "name": "python3"
  },
  "language_info": {
   "codemirror_mode": {
    "name": "ipython",
    "version": 3
   },
   "file_extension": ".py",
   "mimetype": "text/x-python",
   "name": "python",
   "nbconvert_exporter": "python",
   "pygments_lexer": "ipython3",
   "version": "3.9.13"
  }
 },
 "nbformat": 4,
 "nbformat_minor": 5
}
