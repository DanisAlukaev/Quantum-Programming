{
 "cells": [
  {
   "cell_type": "markdown",
   "id": "6256fb99",
   "metadata": {},
   "source": [
    "## Assignment 1 — Operators\n",
    "Course: Quantum Programming <br>\n",
    "Author: Danis Alukaev <br>\n",
    "Group: B19-DS-01 <br>\n",
    "Email: d.alukaev@innopolis.university"
   ]
  },
  {
   "cell_type": "markdown",
   "id": "608730dd",
   "metadata": {},
   "source": [
    "# 0. Prerequisites"
   ]
  },
  {
   "cell_type": "markdown",
   "id": "6f8fe41c",
   "metadata": {},
   "source": [
    "Let's firstly import all necessary packages that will be used in this notebook."
   ]
  },
  {
   "cell_type": "code",
   "execution_count": 1,
   "id": "ae5f843e",
   "metadata": {},
   "outputs": [],
   "source": [
    "import numpy as np\n",
    "\n",
    "from numpy.linalg import inv\n",
    "from numpy import kron, dot, pi\n",
    "from qiskit import QuantumRegister, ClassicalRegister, QuantumCircuit, execute, BasicAer, transpile\n",
    "from qiskit.visualization import plot_histogram"
   ]
  },
  {
   "cell_type": "markdown",
   "id": "5397f039",
   "metadata": {},
   "source": [
    "# 1. [50] Missing gates\n",
    "\n",
    "A professor was explaning an algorithm and draw a circuit on the writeboard, but after the lecture one of your classmates erased a few gates in the middle. You were late, so you came to copy the ciruit to your notebook. Now you need to restore the missing gates given:\n",
    "- empirical distribution (observations), total program matrix, and the statevector.\n",
    "\n",
    "**Requirements**:\n",
    "- don't try to guess the gate by substitution. No way. You have to provide a solution.\n",
    "- solve the problem \"with pen and paper\" - write your solution in `sympy` of just with pure $\\LaTeX$."
   ]
  },
  {
   "cell_type": "code",
   "execution_count": null,
   "id": "220dea86",
   "metadata": {},
   "outputs": [],
   "source": [
    "from qiskit import QuantumRegister, ClassicalRegister, QuantumCircuit, execute, BasicAer\n",
    "from qiskit.visualization import plot_histogram\n",
    "from numpy import pi\n",
    "\n",
    "qreg = QuantumRegister(3, 'qubits')\n",
    "creg = ClassicalRegister(3, 'bits')\n",
    "qc = QuantumCircuit(qreg, creg)\n",
    "\n",
    "# set data\n",
    "qc.ry(pi / 3, qreg[0])\n",
    "qc.barrier()\n",
    "\n",
    "#############################\n",
    "#                           #\n",
    "#      MISSING PART         #\n",
    "#                           #\n",
    "#############################\n",
    "\n",
    "# entangle\n",
    "qc.cx(qreg[1], qreg[2])\n",
    "qc.h(qreg[1])\n",
    "\n",
    "# disentangle\n",
    "qc.h(qreg[0])\n",
    "qc.cx(qreg[0], qreg[1])\n",
    "qc.h(1)\n",
    "qc.cx(2, 1)\n",
    "qc.h([0])\n",
    "\n",
    "qc.barrier()\n",
    "qc.measure(qreg, creg)\n",
    "\n",
    "qc.draw()"
   ]
  },
  {
   "cell_type": "markdown",
   "id": "11742025",
   "metadata": {},
   "source": [
    "```\n",
    "          ┌─────────┐  ░░░░░░░░░░┌───┐          ┌───┐       ┌─┐      \n",
    "qubits_0: ┤ Ry(π/3) ├──░░░░░░░░░░┤ H ├───────■──┤ H ├───────┤M├──────\n",
    "          └─────────┘  ░░░░░░░░░░└───┘┌───┐┌─┴─┐├───┤┌───┐  └╥┘┌─┐   \n",
    "qubits_1: ─────────────░░░░░░░░░░──■──┤ H ├┤ X ├┤ H ├┤ X ├───╫─┤M├───\n",
    "                       ░░░░░░░░░░┌─┴─┐└───┘└───┘└───┘└─┬─┘   ║ └╥┘┌─┐\n",
    "qubits_2: ───────────────────────┤ X ├─────────────────■─────╫──╫─┤M├\n",
    "                                 └───┘                       ║  ║ └╥┘\n",
    "  bits: 3/═══════════════════════════════════════════════════╩══╩══╩═\n",
    "                                                             0  1  2 \n",
    "```"
   ]
  },
  {
   "cell_type": "code",
   "execution_count": 22,
   "id": "fb3d7bfd",
   "metadata": {},
   "outputs": [
    {
     "data": {
      "image/png": "[encoded data removed]",
      "text/plain": [
       "<Figure size 504x360 with 1 Axes>"
      ]
     },
     "execution_count": 22,
     "metadata": {},
     "output_type": "execute_result"
    }
   ],
   "source": [
    "qpu = BasicAer.get_backend('qasm_simulator')\n",
    "hist = execute(qc, qpu, shots=65535).result().get_counts()\n",
    "plot_histogram(hist)"
   ]
  },
  {
   "cell_type": "code",
   "execution_count": 23,
   "id": "a4f8b476",
   "metadata": {},
   "outputs": [
    {
     "data": {
      "text/plain": [
       "array([0.965926, 0.      , 0.      , 0.      , 0.258819, 0.      ,\n",
       "       0.      , 0.      ])"
      ]
     },
     "execution_count": 23,
     "metadata": {},
     "output_type": "execute_result"
    }
   ],
   "source": [
    "import numpy as np\n",
    "np.set_printoptions(precision=6)\n",
    "svqpu = BasicAer.get_backend('statevector_simulator')\n",
    "\n",
    "# cool thing you may want to use when going from one type of simulator to another\n",
    "qc.remove_final_measurements()\n",
    "# the result is real-valued. We remain real part just for clarity.\n",
    "execute(qc, svqpu).result().get_statevector().real\n",
    "\n",
    "## NB please make sure you understand, \n",
    "# that in IBMs world the \"2nd\" qubit is living in the rightmost position\n",
    "# which is kind of weird."
   ]
  },
  {
   "cell_type": "code",
   "execution_count": 24,
   "id": "077be3dd",
   "metadata": {},
   "outputs": [
    {
     "data": {
      "text/plain": [
       "array([[ 0.966,  0.259,  0.   ,  0.   ,  0.   ,  0.   ,  0.   ,  0.   ],\n",
       "       [ 0.   ,  0.   ,  0.259, -0.966,  0.   ,  0.   ,  0.   ,  0.   ],\n",
       "       [ 0.   ,  0.   ,  0.   ,  0.   ,  0.259, -0.966,  0.   ,  0.   ],\n",
       "       [ 0.   ,  0.   ,  0.   ,  0.   ,  0.   ,  0.   ,  0.966,  0.259],\n",
       "       [ 0.259, -0.966,  0.   ,  0.   ,  0.   ,  0.   ,  0.   ,  0.   ],\n",
       "       [ 0.   ,  0.   ,  0.966,  0.259,  0.   ,  0.   ,  0.   ,  0.   ],\n",
       "       [ 0.   ,  0.   ,  0.   ,  0.   ,  0.966,  0.259,  0.   ,  0.   ],\n",
       "       [ 0.   ,  0.   ,  0.   ,  0.   ,  0.   ,  0.   ,  0.259, -0.966]])"
      ]
     },
     "execution_count": 24,
     "metadata": {},
     "output_type": "execute_result"
    }
   ],
   "source": [
    "mxqpu = BasicAer.get_backend('unitary_simulator')\n",
    "np.set_printoptions(precision=3)\n",
    "execute(qc, mxqpu).result().get_unitary(qc, decimals=5).real"
   ]
  },
  {
   "cell_type": "markdown",
   "id": "0bdf1224",
   "metadata": {},
   "source": [
    "$$\\newcommand{\\ket}[1]{\\left|{#1}\\right\\rangle}$$\n",
    "$$\\newcommand{\\bra}[1]{\\left\\langle{#1}\\right|}$$\n",
    "Let me help you with the task )) \n",
    "\n",
    "If unknown transformation is called $Q$, we can rewrite the program in matrix form like:\n",
    "\n",
    "$(Remainder)\\times\\left(Q\\otimes I\\right)\\times\\left( RY(\\frac{\\pi}{3})\\otimes I\\otimes I\\right)=U$\n",
    "\n",
    "1. Solve this equation for $Q\\otimes I$. Then compute actual matrix using numpy. NB! Matrices are attached in reverse order compared to the gates order.\n",
    "2. Look at the resulting matrix, can you find $Q$?\n",
    "3. Now look at $Q$. How it acts on $\\ket{00}$? Did we see this operator before? Which primitive gates it consists of?\n",
    "4. Add missing gates to the program and run to obtain the same result."
   ]
  },
  {
   "cell_type": "markdown",
   "id": "d43e4474",
   "metadata": {},
   "source": [
    "### Solution"
   ]
  },
  {
   "cell_type": "markdown",
   "id": "02f19ec6",
   "metadata": {},
   "source": [
    "Let's firstly recall some matrix notations that might be useful for us to represent the program in a matrix form:\n",
    "\n",
    "| Name | Notation | Matrix |\n",
    "| :- | :-: | :-: |\n",
    "| Identity matrix | $$I$$ | $$  \\begin{bmatrix} 1 & 1 \\\\ 1 & 1 \\end{bmatrix}$$ |\n",
    "| Hadamard gate | $$H$$ | $$\\frac{1}{\\sqrt{2}} \\begin{bmatrix} 1 & 1 \\\\ 1 & -1 \\end{bmatrix}$$ |\n",
    "| Rotate around y-axis gate | $$RY(\\theta)$$ | $$ \\begin{bmatrix} \\cos{\\frac{\\theta}{2}} & - \\sin{\\frac{\\theta}{2}} \\\\ \\sin{\\frac{\\theta}{2}} & \\cos{\\frac{\\theta}{2}} \\end{bmatrix} $$ |\n",
    "| Controlled NOT | $$ \\text{CNOT} $$ | $$ \\begin{bmatrix} 1 & 0 & 0 & 0 \\\\ 0 & 1 & 0 & 0 \\\\ 0 & 0 & 0 & 1 \\\\ 0 & 0 & 1 & 0 \\\\ \\end{bmatrix} $$|\n",
    "| Controlled NOT (opposite direction) | $$ \\text{CNOT} $$ | $$ \\begin{bmatrix} 1 & 0 & 0 & 0 \\\\ 0 & 0 & 0 & 1 \\\\ 0 & 0 & 1 & 0 \\\\ 0 & 1 & 0 & 0 \\\\ \\end{bmatrix} $$|\n"
   ]
  },
  {
   "cell_type": "markdown",
   "id": "e774551a",
   "metadata": {},
   "source": [
    "For sake of clarity let controlled NOT with controlling qubit $a$ and controlled qubit $b$ be defined as $\\text{CNOT}_{\\text{ab}}$. Also, note that in qiskit package qubits with lower index are less significant. Thus, we will apply CNOT when $b > a$ and CNOT in opposite direction when $a > b$."
   ]
  },
  {
   "cell_type": "markdown",
   "id": "9f52d46f",
   "metadata": {},
   "source": [
    "Let's define an unknown transformation as $Q$."
   ]
  },
  {
   "cell_type": "markdown",
   "id": "cdd0724a",
   "metadata": {},
   "source": [
    "Accordingly, the program can be rewritten in a matrix form as follows:\n",
    "$$\\left(\\text{CNOT}_{21} \\otimes I \\right) \\times \\left(I \\otimes H \\otimes H \\right) \\times \\left(I \\otimes \\text{CNOT}_{01}\\right) \\times \\left(I \\otimes H \\otimes I \\right) \\times \\left(\\text{CNOT}_{12} \\otimes H \\right) \\times \\left(I \\otimes Q \\right) \\times \\left( I\\otimes I \\otimes RY(\\frac{\\pi}{3})\\right) = U$$\n",
    "This equation could be solved for $I \\otimes Q$: \n",
    "$$ I \\otimes Q  = \\left( \\left(\\text{CNOT}_{21} \\otimes I \\right) \\times \\left(I \\otimes H \\otimes H \\right) \\times \\left(I \\otimes \\text{CNOT}_{01}\\right) \\times \\left(I \\otimes H \\otimes I \\right) \\times \\left(\\text{CNOT}_{12} \\otimes H \\right) \\right)^{-1} \\times U \\times \\left( I\\otimes I \\otimes RY(\\frac{\\pi}{3})\\right)^{-1}$$"
   ]
  },
  {
   "cell_type": "markdown",
   "id": "bb771c88",
   "metadata": {},
   "source": [
    "Compute actual matrix $I \\otimes Q$ using numpy:"
   ]
  },
  {
   "cell_type": "code",
   "execution_count": 2,
   "id": "987e1520",
   "metadata": {},
   "outputs": [],
   "source": [
    "I = np.identity(2)\n",
    "\n",
    "H = 1 / np.sqrt(2) * np.array([[1, 1], \n",
    "                               [1, -1]])\n",
    "\n",
    "CNOT = np.array([[1, 0, 0, 0], \n",
    "                 [0, 1, 0, 0], \n",
    "                 [0, 0, 0, 1], \n",
    "                 [0, 0, 1, 0]])\n",
    "\n",
    "CNOT_opposite = np.array([[1, 0, 0, 0], \n",
    "                          [0, 0, 0, 1], \n",
    "                          [0, 0, 1, 0], \n",
    "                          [0, 1, 0, 0]])\n",
    "\n",
    "Ry = np.array([[np.cos(np.pi / 3 / 2), -np.sin(np.pi / 3 / 2)], \n",
    "               [np.sin(np.pi / 3 / 2), np.cos(np.pi / 3 / 2)]])\n",
    "\n",
    "U = np.array([[ 0.966,  0.259,  0.   ,  0.   ,  0.   ,  0.   ,  0.   ,  0.   ],\n",
    "              [ 0.   ,  0.   ,  0.259, -0.966,  0.   ,  0.   ,  0.   ,  0.   ],\n",
    "              [ 0.   ,  0.   ,  0.   ,  0.   ,  0.259, -0.966,  0.   ,  0.   ],\n",
    "              [ 0.   ,  0.   ,  0.   ,  0.   ,  0.   ,  0.   ,  0.966,  0.259],\n",
    "              [ 0.259, -0.966,  0.   ,  0.   ,  0.   ,  0.   ,  0.   ,  0.   ],\n",
    "              [ 0.   ,  0.   ,  0.966,  0.259,  0.   ,  0.   ,  0.   ,  0.   ],\n",
    "              [ 0.   ,  0.   ,  0.   ,  0.   ,  0.966,  0.259,  0.   ,  0.   ],\n",
    "              [ 0.   ,  0.   ,  0.   ,  0.   ,  0.   ,  0.   ,  0.259, -0.966]])"
   ]
  },
  {
   "cell_type": "code",
   "execution_count": 3,
   "id": "c4268da6",
   "metadata": {},
   "outputs": [],
   "source": [
    "def kron_mg(matrices):\n",
    "    \"\"\"Compute Kronecker product of several matrices.\n",
    "    \n",
    "    Args:\n",
    "        matrices: list of numpy arrays\n",
    "        \n",
    "    Returns:\n",
    "        Kronecker product of given matrices\n",
    "    \"\"\"\n",
    "    result = np.copy(matrices[0])\n",
    "    for idx in range(1, len(matrices)):\n",
    "        result = kron(result, np.copy(matrices[idx]))\n",
    "    return result\n",
    "\n",
    "\n",
    "def dot_mg(matrices):\n",
    "    \"\"\"Compute dot product of several matrices.\n",
    "    \n",
    "    Args:\n",
    "        matrices: list of numpy arrays\n",
    "    \n",
    "    Returns:\n",
    "        dot product of given matrices\n",
    "    \"\"\"\n",
    "    result = np.copy(matrices[0])\n",
    "    for idx in range(1, len(matrices)):\n",
    "        result = dot(result, np.copy(matrices[idx]))\n",
    "    return result"
   ]
  },
  {
   "cell_type": "code",
   "execution_count": 4,
   "id": "7dcc9135",
   "metadata": {},
   "outputs": [],
   "source": [
    "IxQ = dot_mg([\n",
    "    inv(\n",
    "        dot_mg([\n",
    "            kron_mg([CNOT, I]),\n",
    "            kron_mg([I, H, H]),\n",
    "            kron_mg([I, CNOT_opposite]),\n",
    "            kron_mg([I, H, I]),\n",
    "            kron_mg([CNOT_opposite, H])\n",
    "        ])),\n",
    "    U,\n",
    "    inv(kron_mg([I, I, Ry]))\n",
    "])"
   ]
  },
  {
   "cell_type": "markdown",
   "id": "b5fa1b20",
   "metadata": {},
   "source": [
    "Due to computational error there are likely to be some elements of the matrix which values can be neglected. Let $\\epsilon = 10 ^ {-10}$ be an absolute value threshold for such elements."
   ]
  },
  {
   "cell_type": "code",
   "execution_count": 5,
   "id": "75321b8a",
   "metadata": {},
   "outputs": [
    {
     "data": {
      "text/plain": [
       "array([[ 0.707,  0.707,  0.   ,  0.   ,  0.   ,  0.   ,  0.   ,  0.   ],\n",
       "       [ 0.   ,  0.   ,  0.707, -0.707,  0.   ,  0.   ,  0.   ,  0.   ],\n",
       "       [ 0.   ,  0.   ,  0.707,  0.707,  0.   ,  0.   ,  0.   ,  0.   ],\n",
       "       [ 0.707, -0.707,  0.   ,  0.   ,  0.   ,  0.   ,  0.   ,  0.   ],\n",
       "       [ 0.   ,  0.   ,  0.   ,  0.   ,  0.707,  0.707,  0.   ,  0.   ],\n",
       "       [ 0.   ,  0.   ,  0.   ,  0.   ,  0.   ,  0.   ,  0.707, -0.707],\n",
       "       [ 0.   ,  0.   ,  0.   ,  0.   ,  0.   ,  0.   ,  0.707,  0.707],\n",
       "       [ 0.   ,  0.   ,  0.   ,  0.   ,  0.707, -0.707,  0.   ,  0.   ]])"
      ]
     },
     "execution_count": 5,
     "metadata": {},
     "output_type": "execute_result"
    }
   ],
   "source": [
    "eps = 1e-10\n",
    "IxQ[abs(IxQ) < eps] = 0\n",
    "np.set_printoptions(precision=3)\n",
    "IxQ"
   ]
  },
  {
   "cell_type": "markdown",
   "id": "28820f3d",
   "metadata": {},
   "source": [
    "You might notice the pattern of this matrix — upper right and bottom left quadrants are filled with zeros and upper left and bottom right quadrants are the same. This is type of behaviour we expect from Kronecker product of identity matrix and $Q$. Thus, the required matrix $Q$ could be extracted from upper left or bottom right quadrants.\n",
    "\n",
    "$$ Q = \\begin{bmatrix}\n",
    "0.707 & 0.707 & 0 & 0 \\\\\n",
    "0 & 0 & 0.707 & -0.707 \\\\\n",
    "0 & 0 & 0.707 & 0.707 \\\\\n",
    "0.707 & -0.707 & 0 & 0\n",
    "\\end{bmatrix}$$"
   ]
  },
  {
   "cell_type": "markdown",
   "id": "11f63d7c",
   "metadata": {},
   "source": [
    "Notice that $0.707 \\approx \\frac{1}{ \\sqrt{2} }$."
   ]
  },
  {
   "cell_type": "markdown",
   "id": "8f6d62b4",
   "metadata": {},
   "source": [
    "Let's now carefully examine how it acts for $\\ket{00}$, $\\ket{01}$, $\\ket{10}$, and $\\ket{11}$:\n",
    "\n",
    "$Q \\ket{00} = \\begin{bmatrix}\n",
    "0.707 & 0.707 & 0 & 0 \\\\\n",
    "0 & 0 & 0.707 & -0.707 \\\\\n",
    "0 & 0 & 0.707 & 0.707 \\\\\n",
    "0.707 & -0.707 & 0 & 0\n",
    "\\end{bmatrix} \\begin{bmatrix} 1 \\\\ 0 \\\\ 0 \\\\ 0 \\end{bmatrix} \\approx \\frac{1}{\\sqrt{2}} \\begin{bmatrix} 1 \\\\ 0 \\\\ 0 \\\\ 1 \\end{bmatrix} = \\frac{\\ket{00} + \\ket{11}}{\\sqrt{2}} = \\ket{\\Phi^+}$\n",
    "\n",
    "$Q \\ket{01} = \\begin{bmatrix}\n",
    "0.707 & 0.707 & 0 & 0 \\\\\n",
    "0 & 0 & 0.707 & -0.707 \\\\\n",
    "0 & 0 & 0.707 & 0.707 \\\\\n",
    "0.707 & -0.707 & 0 & 0\n",
    "\\end{bmatrix} \\begin{bmatrix} 0 \\\\ 1 \\\\ 0 \\\\ 0 \\end{bmatrix} \\approx \\frac{1}{\\sqrt{2}} \\begin{bmatrix} 1 \\\\ 0 \\\\ 0 \\\\ -1 \\end{bmatrix} = \\frac{\\ket{00} - \\ket{11}}{\\sqrt{2}} = \\ket{\\Phi^-}$\n",
    "\n",
    "$Q \\ket{10} = \\begin{bmatrix}\n",
    "0.707 & 0.707 & 0 & 0 \\\\\n",
    "0 & 0 & 0.707 & -0.707 \\\\\n",
    "0 & 0 & 0.707 & 0.707 \\\\\n",
    "0.707 & -0.707 & 0 & 0\n",
    "\\end{bmatrix} \\begin{bmatrix} 0 \\\\ 0 \\\\ 1 \\\\ 0 \\end{bmatrix} \\approx \\frac{1}{\\sqrt{2}} \\begin{bmatrix} 0 \\\\ 1 \\\\ 1 \\\\ 0 \\end{bmatrix} = \\frac{\\ket{01} + \\ket{10}}{\\sqrt{2}} = \\ket{\\Psi ^ +}$\n",
    "\n",
    "$Q \\ket{11} = \\begin{bmatrix}\n",
    "0.707 & 0.707 & 0 & 0 \\\\\n",
    "0 & 0 & 0.707 & -0.707 \\\\\n",
    "0 & 0 & 0.707 & 0.707 \\\\\n",
    "0.707 & -0.707 & 0 & 0\n",
    "\\end{bmatrix} \\begin{bmatrix} 0 \\\\ 0 \\\\ 0 \\\\ 1 \\end{bmatrix} \\approx \\frac{1}{\\sqrt{2}} \\begin{bmatrix} 0 \\\\ -1 \\\\ 1 \\\\ 0 \\end{bmatrix} = \\frac{-(\\ket{01} - \\ket{10})}{\\sqrt{2}} = \\ket{\\Psi ^ -}$\n"
   ]
  },
  {
   "cell_type": "markdown",
   "id": "b9024ca9",
   "metadata": {},
   "source": [
    "These are four maximally entangled two-qubit Bell states composing Bell basis. On lectures we studied a way to create Bell state using Hadamard and controlled NOT gates. I would suggest that these are two missing gates in a circuit. Let's fill in missing parts in the code and rerun simulations."
   ]
  },
  {
   "cell_type": "code",
   "execution_count": 6,
   "id": "874f22f6",
   "metadata": {},
   "outputs": [
    {
     "data": {
      "text/html": [
       "<pre style=\"word-wrap: normal;white-space: pre;background: #fff0;line-height: 1.1;font-family: &quot;Courier New&quot;,Courier,monospace\">          ┌─────────┐ ░ ┌───┐      ░ ┌───┐          ┌───┐      ░ ┌─┐      \n",
       "qubits_0: ┤ Ry(π/3) ├─░─┤ H ├──■───░─┤ H ├───────■──┤ H ├──────░─┤M├──────\n",
       "          └─────────┘ ░ └───┘┌─┴─┐ ░ └───┘┌───┐┌─┴─┐├───┤┌───┐ ░ └╥┘┌─┐   \n",
       "qubits_1: ────────────░──────┤ X ├─░───■──┤ H ├┤ X ├┤ H ├┤ X ├─░──╫─┤M├───\n",
       "                      ░      └───┘ ░ ┌─┴─┐└───┘└───┘└───┘└─┬─┘ ░  ║ └╥┘┌─┐\n",
       "qubits_2: ────────────░────────────░─┤ X ├─────────────────■───░──╫──╫─┤M├\n",
       "                      ░            ░ └───┘                     ░  ║  ║ └╥┘\n",
       "  bits: 3/════════════════════════════════════════════════════════╩══╩══╩═\n",
       "                                                                  0  1  2 </pre>"
      ],
      "text/plain": [
       "          ┌─────────┐ ░ ┌───┐      ░ ┌───┐          ┌───┐      ░ ┌─┐      \n",
       "qubits_0: ┤ Ry(π/3) ├─░─┤ H ├──■───░─┤ H ├───────■──┤ H ├──────░─┤M├──────\n",
       "          └─────────┘ ░ └───┘┌─┴─┐ ░ └───┘┌───┐┌─┴─┐├───┤┌───┐ ░ └╥┘┌─┐   \n",
       "qubits_1: ────────────░──────┤ X ├─░───■──┤ H ├┤ X ├┤ H ├┤ X ├─░──╫─┤M├───\n",
       "                      ░      └───┘ ░ ┌─┴─┐└───┘└───┘└───┘└─┬─┘ ░  ║ └╥┘┌─┐\n",
       "qubits_2: ────────────░────────────░─┤ X ├─────────────────■───░──╫──╫─┤M├\n",
       "                      ░            ░ └───┘                     ░  ║  ║ └╥┘\n",
       "  bits: 3/════════════════════════════════════════════════════════╩══╩══╩═\n",
       "                                                                  0  1  2 "
      ]
     },
     "execution_count": 6,
     "metadata": {},
     "output_type": "execute_result"
    }
   ],
   "source": [
    "qreg = QuantumRegister(3, 'qubits')\n",
    "creg = ClassicalRegister(3, 'bits')\n",
    "qc = QuantumCircuit(qreg, creg)\n",
    "\n",
    "# set data\n",
    "qc.ry(pi / 3, qreg[0])\n",
    "qc.barrier()\n",
    "\n",
    "### FILLED IN MISSING GATES ###\n",
    "\n",
    "qc.h(qreg[0])\n",
    "qc.cx(qreg[0], qreg[1])\n",
    "qc.barrier()\n",
    "\n",
    "###############################\n",
    "\n",
    "# entangle\n",
    "qc.cx(qreg[1], qreg[2])\n",
    "qc.h(qreg[1])\n",
    "\n",
    "# disentangle\n",
    "qc.h(qreg[0])\n",
    "qc.cx(qreg[0], qreg[1])\n",
    "qc.h(1)\n",
    "qc.cx(2, 1)\n",
    "qc.h([0])\n",
    "\n",
    "qc.barrier()\n",
    "qc.measure(qreg, creg)\n",
    "\n",
    "qc.draw()"
   ]
  },
  {
   "cell_type": "code",
   "execution_count": 8,
   "id": "6437614d",
   "metadata": {},
   "outputs": [
    {
     "data": {
      "image/png": "[encoded data removed]",
      "text/plain": [
       "<Figure size 700x500 with 1 Axes>"
      ]
     },
     "execution_count": 8,
     "metadata": {},
     "output_type": "execute_result"
    }
   ],
   "source": [
    "qpu = BasicAer.get_backend('qasm_simulator')\n",
    "hist = execute(qc, qpu, shots=65535).result().get_counts()\n",
    "plot_histogram(hist)"
   ]
  },
  {
   "cell_type": "code",
   "execution_count": 9,
   "id": "8cbe7aa8",
   "metadata": {},
   "outputs": [
    {
     "data": {
      "text/plain": [
       "array([0.965926, 0.      , 0.      , 0.      , 0.258819, 0.      ,\n",
       "       0.      , 0.      ])"
      ]
     },
     "execution_count": 9,
     "metadata": {},
     "output_type": "execute_result"
    }
   ],
   "source": [
    "np.set_printoptions(precision=6)\n",
    "svqpu = BasicAer.get_backend('statevector_simulator')\n",
    "\n",
    "# cool thing you may want to use when going from one type of simulator to another\n",
    "qc.remove_final_measurements()\n",
    "# the result is real-valued. We remain real part just for clarity.\n",
    "execute(qc, svqpu).result().get_statevector().real\n",
    "\n",
    "## NB please make sure you understand, \n",
    "# that in IBMs world the \"2nd\" qubit is living in the rightmost position\n",
    "# which is kind of weird."
   ]
  },
  {
   "cell_type": "code",
   "execution_count": 10,
   "id": "a1ff7353",
   "metadata": {},
   "outputs": [
    {
     "data": {
      "text/plain": [
       "array([[ 0.966,  0.259,  0.   ,  0.   ,  0.   ,  0.   ,  0.   ,  0.   ],\n",
       "       [ 0.   ,  0.   ,  0.259, -0.966,  0.   ,  0.   ,  0.   ,  0.   ],\n",
       "       [ 0.   ,  0.   ,  0.   ,  0.   ,  0.259, -0.966,  0.   ,  0.   ],\n",
       "       [ 0.   ,  0.   ,  0.   ,  0.   ,  0.   ,  0.   ,  0.966,  0.259],\n",
       "       [ 0.259, -0.966,  0.   ,  0.   ,  0.   ,  0.   ,  0.   ,  0.   ],\n",
       "       [ 0.   ,  0.   ,  0.966,  0.259,  0.   ,  0.   ,  0.   ,  0.   ],\n",
       "       [ 0.   ,  0.   ,  0.   ,  0.   ,  0.966,  0.259,  0.   ,  0.   ],\n",
       "       [ 0.   ,  0.   ,  0.   ,  0.   ,  0.   ,  0.   ,  0.259, -0.966]])"
      ]
     },
     "execution_count": 10,
     "metadata": {},
     "output_type": "execute_result"
    }
   ],
   "source": [
    "mxqpu = BasicAer.get_backend('unitary_simulator')\n",
    "np.set_printoptions(precision=3)\n",
    "execute(qc, mxqpu).result().get_unitary(qc, decimals=5).real"
   ]
  },
  {
   "cell_type": "markdown",
   "id": "196d493b",
   "metadata": {},
   "source": [
    "As you might see, emperical distribution, statevector and unitary matrix match the reference given in problem statement. Therefore, the missing gates are Hadamard and controlled NOT."
   ]
  },
  {
   "cell_type": "markdown",
   "id": "b4b7d7e7",
   "metadata": {},
   "source": [
    "# 2. [50] Invent a CRY($\\frac{\\pi}{2}$) gate\n",
    "\n",
    "Assume you have only arbitrary 1-qubit gates + $CNOT$. How to construct $CRY$ gate of them?\n",
    "\n",
    "Base your solution on [this classical paper](https://arxiv.org/abs/quant-ph/0406176), pay attention to: formula 13 (what is multiplexor) and **chapter 3.1**. It explicitly says what you should do.\n",
    "\n",
    "**Provide both code and justification!**\n",
    "\n",
    "HINT: $CRY(\\phi)$ is a multiplexor $I\\oplus RY(\\phi) = RY(0)\\oplus RY(\\phi)$"
   ]
  },
  {
   "cell_type": "code",
   "execution_count": 11,
   "id": "04f20b67",
   "metadata": {},
   "outputs": [
    {
     "data": {
      "text/html": [
       "<pre style=\"word-wrap: normal;white-space: pre;background: #fff0;line-height: 1.1;font-family: &quot;Courier New&quot;,Courier,monospace\">          ┌───┐           \n",
       "qubits_0: ┤ H ├─────■─────\n",
       "          └───┘┌────┴────┐\n",
       "qubits_1: ─────┤ Ry(π/2) ├\n",
       "               └─────────┘\n",
       "  bits: 2/════════════════\n",
       "                          </pre>"
      ],
      "text/plain": [
       "          ┌───┐           \n",
       "qubits_0: ┤ H ├─────■─────\n",
       "          └───┘┌────┴────┐\n",
       "qubits_1: ─────┤ Ry(π/2) ├\n",
       "               └─────────┘\n",
       "  bits: 2/════════════════\n",
       "                          "
      ]
     },
     "metadata": {},
     "output_type": "display_data"
    },
    {
     "data": {
      "text/plain": [
       "array([0.70711, 0.5    , 0.     , 0.5    ])"
      ]
     },
     "execution_count": 11,
     "metadata": {},
     "output_type": "execute_result"
    }
   ],
   "source": [
    "from qiskit import QuantumRegister, ClassicalRegister, QuantumCircuit, execute, BasicAer, transpile\n",
    "from qiskit.visualization import plot_histogram\n",
    "from numpy import pi\n",
    "\n",
    "qreg = QuantumRegister(2, 'qubits')\n",
    "creg = ClassicalRegister(2, 'bits')\n",
    "qc = QuantumCircuit(qreg, creg)\n",
    "\n",
    "qc.h(0)\n",
    "qc.cry(np.pi/2, 0, 1)\n",
    "\n",
    "display(qc.draw())\n",
    "\n",
    "import numpy as np\n",
    "np.set_printoptions(precision=5)\n",
    "svqpu = BasicAer.get_backend('statevector_simulator')\n",
    "execute(qc, svqpu).result().get_statevector().real"
   ]
  },
  {
   "cell_type": "markdown",
   "id": "cc03c227",
   "metadata": {},
   "source": [
    "### Solution"
   ]
  },
  {
   "cell_type": "markdown",
   "id": "cc4bb470",
   "metadata": {},
   "source": [
    "Shende V. et al. in _\"Synthesis of Quantum Logic Circuits\"_ define multiplexor as a circuit block implementing a quantum conditional. For a multiplexor with a single select bit that is most significant, its matrix $U$ is block diagonal, where $U_0$ and $U_1$ are applied according to value of select bit:\n",
    "$$ U = U_0 \\oplus U_1 = \\begin{bmatrix} U_0 & \\\\ & U_1 \\end{bmatrix}$$\n"
   ]
  },
  {
   "cell_type": "markdown",
   "id": "901b00cf",
   "metadata": {},
   "source": [
    "Notice that $CRY(\\phi)$ gate is a multiplexor $I\\oplus RY(\\phi) = RY(0)\\oplus RY(\\phi)$."
   ]
  },
  {
   "cell_type": "markdown",
   "id": "bda94193",
   "metadata": {},
   "source": [
    "In the chapter 3.1 authors show an example of multiplexor $RZ(\\theta_0) \\oplus RZ(\\theta_1)$ implemented by a circuit of four consecutive gates: $RZ(\\frac{\\theta_0 + \\theta_1}{2})$, $\\text{CNOT}_{01}$, $RZ(\\frac{\\theta_0 - \\theta_1}{2})$, and $\\text{CNOT}_{01}$. They also claim that this statement holds if we replace $RZ$ by $RY$, which is exactly our case."
   ]
  },
  {
   "cell_type": "markdown",
   "id": "c14e51e7",
   "metadata": {},
   "source": [
    "Thus, the circuit implementing $CRY(\\phi)$ should consist of $RY(\\frac{0 + \\phi}{2})=RY(\\frac{\\phi}{2})$, $\\text{CNOT}_{01}$, $RY(\\frac{0 - \\phi}{2})=RY(-\\frac{ \\phi}{2})$, and $\\text{CNOT}_{01}$, where $\\phi = \\frac{\\pi}{2}$ in the code. "
   ]
  },
  {
   "cell_type": "code",
   "execution_count": 12,
   "id": "5ca5d4a1",
   "metadata": {},
   "outputs": [
    {
     "data": {
      "text/html": [
       "<pre style=\"word-wrap: normal;white-space: pre;background: #fff0;line-height: 1.1;font-family: &quot;Courier New&quot;,Courier,monospace\">          ┌───┐ ░                                   ░ \n",
       "qubits_0: ┤ H ├─░──────────────■────────────────■───░─\n",
       "          └───┘ ░ ┌─────────┐┌─┴─┐┌──────────┐┌─┴─┐ ░ \n",
       "qubits_1: ──────░─┤ Ry(π/4) ├┤ X ├┤ Ry(-π/4) ├┤ X ├─░─\n",
       "                ░ └─────────┘└───┘└──────────┘└───┘ ░ \n",
       "  bits: 2/════════════════════════════════════════════\n",
       "                                                      </pre>"
      ],
      "text/plain": [
       "          ┌───┐ ░                                   ░ \n",
       "qubits_0: ┤ H ├─░──────────────■────────────────■───░─\n",
       "          └───┘ ░ ┌─────────┐┌─┴─┐┌──────────┐┌─┴─┐ ░ \n",
       "qubits_1: ──────░─┤ Ry(π/4) ├┤ X ├┤ Ry(-π/4) ├┤ X ├─░─\n",
       "                ░ └─────────┘└───┘└──────────┘└───┘ ░ \n",
       "  bits: 2/════════════════════════════════════════════\n",
       "                                                      "
      ]
     },
     "metadata": {},
     "output_type": "display_data"
    },
    {
     "data": {
      "text/plain": [
       "array([0.70711, 0.5    , 0.     , 0.5    ])"
      ]
     },
     "execution_count": 12,
     "metadata": {},
     "output_type": "execute_result"
    }
   ],
   "source": [
    "qreg = QuantumRegister(2, 'qubits')\n",
    "creg = ClassicalRegister(2, 'bits')\n",
    "qc = QuantumCircuit(qreg, creg)\n",
    "\n",
    "qc.h(0)\n",
    "\n",
    "### IMPLEMENTATION OF CRY GATE ###\n",
    "\n",
    "qc.barrier()\n",
    "phi = np.pi / 4\n",
    "qc.ry(phi, qreg[1])\n",
    "qc.cx(qreg[0], qreg[1])\n",
    "qc.ry(-phi, qreg[1])\n",
    "qc.cx(qreg[0], qreg[1])\n",
    "qc.barrier()\n",
    "display(qc.draw())\n",
    "\n",
    "##################################\n",
    "\n",
    "import numpy as np\n",
    "np.set_printoptions(precision=5)\n",
    "svqpu = BasicAer.get_backend('statevector_simulator')\n",
    "execute(qc, svqpu).result().get_statevector().real"
   ]
  },
  {
   "cell_type": "markdown",
   "id": "1ed5b534",
   "metadata": {},
   "source": [
    "State vector matches reference value, so we managed to replicate $CRY$ gate!"
   ]
  }
 ],
 "metadata": {
  "kernelspec": {
   "display_name": "Python 3 (ipykernel)",
   "language": "python",
   "name": "python3"
  },
  "language_info": {
   "codemirror_mode": {
    "name": "ipython",
    "version": 3
   },
   "file_extension": ".py",
   "mimetype": "text/x-python",
   "name": "python",
   "nbconvert_exporter": "python",
   "pygments_lexer": "ipython3",
   "version": "3.9.13"
  }
 },
 "nbformat": 4,
 "nbformat_minor": 5
}
