{
  "cells": [
    {
      "cell_type": "markdown",
      "id": "eec008e7",
      "metadata": {
        "id": "eec008e7"
      },
      "source": [
        "# Assignment 2 — Gaussian Filter\n",
        "\n",
        "Course: Quantum Programming <br>\n",
        "Author: Danis Alukaev <br>\n",
        "Group: B19-DS-01 <br>\n",
        "Email: d.alukaev@innopolis.university <br>"
      ]
    },
    {
      "cell_type": "markdown",
      "id": "c6307dc4",
      "metadata": {
        "id": "c6307dc4"
      },
      "source": [
        "# [100 in total] Processing data vector on a Quantum Computer\n",
        "\n",
        "In this homework we will learn a cool story about the data processing. Your task may sounds very simple - you will apply Gaussian filtering to the plain vector of 16 numbers. (This task can be generalized to an image if we recall that $G_{xy} = G_{x}\\circ G_{y}$, but here we care only about the vector).\n",
        "\n",
        "## Gaussian filter as a matrix multiplication\n",
        "\n",
        "Of course, before we do it on a quantum computer, let us first model this computation in a matrix form.\n",
        "\n",
        "Gaussian blur is a _convolution_ operation, which is different from just a multiplication.\n",
        "Convolutions are applied within data windows, not for the whole data vector. In a matrix form it will be a collection of the kernel vectors with the shifts. These shifts define \"convolution windows\".\n",
        "\n",
        "### Get the kernel\n",
        "Our first step is to construct a vector kernel, let it be a $5\\times 1$:"
      ]
    },
    {
      "cell_type": "code",
      "execution_count": 1,
      "id": "9ec7426c",
      "metadata": {
        "colab": {
          "base_uri": "https://localhost:8080/"
        },
        "id": "9ec7426c",
        "outputId": "3e86c035-6fb4-4d5f-fcc0-8370e9bcf679"
      },
      "outputs": [
        {
          "output_type": "stream",
          "name": "stdout",
          "text": [
            "[0.05448868 0.24420134 0.40261995 0.24420134 0.05448868]\n"
          ]
        }
      ],
      "source": [
        "import numpy as np\n",
        "from scipy.stats import norm\n",
        "import matplotlib.pyplot as plt\n",
        "\n",
        "kernel = np.array([norm.pdf(i) for i in range(-2, 3)])\n",
        "\n",
        "# kernel should have the sum of 1, which means it should not make the image darker or lighter on total\n",
        "kernel = kernel / sum(kernel)\n",
        "print(kernel)"
      ]
    },
    {
      "cell_type": "markdown",
      "id": "9ec95fe5",
      "metadata": {
        "id": "9ec95fe5"
      },
      "source": [
        "Let us now generate the data for the test and compute the blur:"
      ]
    },
    {
      "cell_type": "code",
      "execution_count": 2,
      "id": "92b12ac3",
      "metadata": {
        "colab": {
          "base_uri": "https://localhost:8080/",
          "height": 282
        },
        "id": "92b12ac3",
        "outputId": "a2d68b40-db72-4c24-e2c8-85fd6628303f"
      },
      "outputs": [
        {
          "output_type": "execute_result",
          "data": {
            "text/plain": [
              "<BarContainer object of 16 artists>"
            ]
          },
          "metadata": {},
          "execution_count": 2
        },
        {
          "output_type": "display_data",
          "data": {
            "text/plain": [
              "<Figure size 720x288 with 1 Axes>"
            ],
            "image/png": "[encoded data removed]"
          },
          "metadata": {
            "needs_background": "light"
          }
        }
      ],
      "source": [
        "data = np.array([0, 0, 1, 1, 0, 1, 0, 0, 1, 0, 0, 0, 1, 0, 0, 0])\n",
        "plt.figure(figsize=(10, 4))\n",
        "plt.bar(range(16), data)"
      ]
    },
    {
      "cell_type": "code",
      "execution_count": 3,
      "id": "1ca7678b",
      "metadata": {
        "colab": {
          "base_uri": "https://localhost:8080/",
          "height": 282
        },
        "id": "1ca7678b",
        "outputId": "e40bcb18-b548-4b5e-a813-e234f1ce4bc4"
      },
      "outputs": [
        {
          "output_type": "execute_result",
          "data": {
            "text/plain": [
              "<BarContainer object of 16 artists>"
            ]
          },
          "metadata": {},
          "execution_count": 3
        },
        {
          "output_type": "display_data",
          "data": {
            "text/plain": [
              "<Figure size 720x288 with 1 Axes>"
            ],
            "image/png": "[encoded data removed]"
          },
          "metadata": {
            "needs_background": "light"
          }
        }
      ],
      "source": [
        "blurred_with_convolution = np.convolve(data, kernel, mode='same')\n",
        "plt.figure(figsize=(10, 4))\n",
        "plt.bar(range(16), blurred_with_convolution)"
      ]
    },
    {
      "cell_type": "markdown",
      "id": "367e6b3f",
      "metadata": {
        "id": "367e6b3f"
      },
      "source": [
        "Note that the peaks are on the same places, but in-between positions have also obtained their amplitudes.\n",
        "\n",
        "### Get the matrix\n",
        "\n",
        "Here I construct (yep, looks like a hack) a matrix which performs exactly the same convolution by multiplication."
      ]
    },
    {
      "cell_type": "code",
      "execution_count": 4,
      "id": "dd4d8c0c",
      "metadata": {
        "colab": {
          "base_uri": "https://localhost:8080/",
          "height": 282
        },
        "id": "dd4d8c0c",
        "outputId": "ecf1f047-d106-406e-de75-94d60ccf08e4"
      },
      "outputs": [
        {
          "output_type": "execute_result",
          "data": {
            "text/plain": [
              "<matplotlib.image.AxesImage at 0x7fec75103450>"
            ]
          },
          "metadata": {},
          "execution_count": 4
        },
        {
          "output_type": "display_data",
          "data": {
            "text/plain": [
              "<Figure size 432x288 with 1 Axes>"
            ],
            "image/png": "[encoded data removed]"
          },
          "metadata": {
            "needs_background": "light"
          }
        }
      ],
      "source": [
        "G = np.zeros((data.shape[0], data.shape[0]))\n",
        "for i in range(data.shape[0]):\n",
        "    start = i - kernel.shape[0] // 2\n",
        "    end = i + kernel.shape[0] // 2\n",
        "    kerneloffset = 0 if start >= 0 else -start\n",
        "    kernelendoffset = 0 \\\n",
        "                if end < data.shape[0] \\\n",
        "                else  end - data.shape[0] + 1\n",
        "    G[start + kerneloffset:end - kernelendoffset + 1, i] = kernel[kerneloffset:len(kernel)-kernelendoffset]\n",
        "    \n",
        "plt.imshow(G)"
      ]
    },
    {
      "cell_type": "code",
      "execution_count": 5,
      "id": "807c3fea",
      "metadata": {
        "colab": {
          "base_uri": "https://localhost:8080/",
          "height": 282
        },
        "id": "807c3fea",
        "outputId": "62da0c1a-ab06-4b00-d468-f6ca1f78937f"
      },
      "outputs": [
        {
          "output_type": "execute_result",
          "data": {
            "text/plain": [
              "<BarContainer object of 16 artists>"
            ]
          },
          "metadata": {},
          "execution_count": 5
        },
        {
          "output_type": "display_data",
          "data": {
            "text/plain": [
              "<Figure size 720x288 with 1 Axes>"
            ],
            "image/png": "[encoded data removed]"
          },
          "metadata": {
            "needs_background": "light"
          }
        }
      ],
      "source": [
        "blurred_with_matrix = G @ data\n",
        "\n",
        "# check results are the same!\n",
        "assert np.allclose(blurred_with_convolution, blurred_with_matrix)\n",
        "plt.figure(figsize=(10, 4))\n",
        "plt.bar(range(16), blurred_with_convolution)"
      ]
    },
    {
      "cell_type": "code",
      "execution_count": 6,
      "id": "b4a8fe8d",
      "metadata": {
        "colab": {
          "base_uri": "https://localhost:8080/",
          "height": 282
        },
        "id": "b4a8fe8d",
        "outputId": "fd634ad2-7012-4605-e76d-885ef5def7f9"
      },
      "outputs": [
        {
          "output_type": "execute_result",
          "data": {
            "text/plain": [
              "<matplotlib.image.AxesImage at 0x7fec74fa6190>"
            ]
          },
          "metadata": {},
          "execution_count": 6
        },
        {
          "output_type": "display_data",
          "data": {
            "text/plain": [
              "<Figure size 432x288 with 1 Axes>"
            ],
            "image/png": "[encoded data removed]"
          },
          "metadata": {
            "needs_background": "light"
          }
        }
      ],
      "source": [
        "# we are happy that G is a reversible operation!\n",
        "unG = np.linalg.inv(G)\n",
        "assert np.allclose(unG @ G, np.eye(G.shape[0]))\n",
        "plt.imshow(unG)"
      ]
    },
    {
      "cell_type": "markdown",
      "id": "34bd43a0",
      "metadata": {
        "id": "34bd43a0"
      },
      "source": [
        "So we are almost ready to run this to the quantum vector... Wait... Is this unitary?! Oh noooo!"
      ]
    },
    {
      "cell_type": "code",
      "execution_count": 7,
      "id": "99ebf7c3",
      "metadata": {
        "colab": {
          "base_uri": "https://localhost:8080/",
          "height": 164
        },
        "id": "99ebf7c3",
        "outputId": "0941dd26-5f6c-478b-84f3-69f287f5e24f"
      },
      "outputs": [
        {
          "output_type": "error",
          "ename": "AssertionError",
          "evalue": "ignored",
          "traceback": [
            "\u001b[0;31m---------------------------------------------------------------------------\u001b[0m",
            "\u001b[0;31mAssertionError\u001b[0m                            Traceback (most recent call last)",
            "\u001b[0;32m<ipython-input-7-7322510cb00d>\u001b[0m in \u001b[0;36m<module>\u001b[0;34m\u001b[0m\n\u001b[0;32m----> 1\u001b[0;31m \u001b[0;32massert\u001b[0m \u001b[0mnp\u001b[0m\u001b[0;34m.\u001b[0m\u001b[0mallclose\u001b[0m\u001b[0;34m(\u001b[0m\u001b[0mG\u001b[0m\u001b[0;34m.\u001b[0m\u001b[0mT\u001b[0m\u001b[0;34m.\u001b[0m\u001b[0mconj\u001b[0m\u001b[0;34m(\u001b[0m\u001b[0;34m)\u001b[0m \u001b[0;34m@\u001b[0m \u001b[0mG\u001b[0m\u001b[0;34m,\u001b[0m \u001b[0mnp\u001b[0m\u001b[0;34m.\u001b[0m\u001b[0meye\u001b[0m\u001b[0;34m(\u001b[0m\u001b[0mG\u001b[0m\u001b[0;34m.\u001b[0m\u001b[0mshape\u001b[0m\u001b[0;34m[\u001b[0m\u001b[0;36m0\u001b[0m\u001b[0;34m]\u001b[0m\u001b[0;34m)\u001b[0m\u001b[0;34m)\u001b[0m\u001b[0;34m,\u001b[0m \u001b[0;34m\"The matrix G is not unitary!!!!1111\"\u001b[0m\u001b[0;34m\u001b[0m\u001b[0;34m\u001b[0m\u001b[0m\n\u001b[0m",
            "\u001b[0;31mAssertionError\u001b[0m: The matrix G is not unitary!!!!1111"
          ]
        }
      ],
      "source": [
        "assert np.allclose(G.T.conj() @ G, np.eye(G.shape[0])), \"The matrix G is not unitary!!!!1111\""
      ]
    },
    {
      "cell_type": "markdown",
      "id": "b489f79d",
      "metadata": {
        "id": "b489f79d"
      },
      "source": [
        "## Unitary matrix construction\n",
        "\n",
        "How do we construct a matrix $U$ which may be bigger, but still contains the desired transformation and is unitary?!\n",
        "\n",
        "[This guy proposes multiple ways](https://youtu.be/d3f3JRo0WUo), we will follow the first one called \"block encoding\". [Listen for the solution intuition for a sec!](https://youtu.be/d3f3JRo0WUo?t=709) And take a look at the slide. The slide provides the direct instruction to finding such a matrix in the explicit form!\n",
        "\n",
        "In quantum computing the idea is to dedicate additional \"garbage\" space in the state vector (padding with 0s) which will be affected by the rest of the matrix, and only care about the measurements which are from the desired half of the distribution.\n",
        "\n",
        "As we keep the desired matrix in the corner, we:\n",
        "- create an ancillary qubit, which is equivalent to padding a vector with zeros,\n",
        "- measure,\n",
        "- consider only those shots where ancilla remains in 0. This means that in the resulting superposition $|0_A\\rangle A|\\psi\\rangle+|1_A\\rangle|*\\rangle$ we care about the left part of the distribution.\n",
        "\n",
        "## [30] Block-encoding of a arbitrary matrix in Unitary\n",
        "\n",
        "We will follow \"impractical\" way here. Your first task is to fill the matrix $U$ [according to the slide](https://www.youtube.com/watch?v=d3f3JRo0WUo&t=709s). Matrix names correspond."
      ]
    },
    {
      "cell_type": "code",
      "execution_count": 8,
      "id": "d99a2c53",
      "metadata": {
        "colab": {
          "base_uri": "https://localhost:8080/",
          "height": 532
        },
        "id": "d99a2c53",
        "outputId": "414ea048-856a-4c8f-dbd8-ec502638b310"
      },
      "outputs": [
        {
          "output_type": "display_data",
          "data": {
            "text/plain": [
              "<Figure size 432x288 with 1 Axes>"
            ],
            "image/png": "[encoded data removed]"
          },
          "metadata": {
            "needs_background": "light"
          }
        },
        {
          "output_type": "execute_result",
          "data": {
            "text/plain": [
              "<matplotlib.image.AxesImage at 0x7fec72e15110>"
            ]
          },
          "metadata": {},
          "execution_count": 8
        },
        {
          "output_type": "display_data",
          "data": {
            "text/plain": [
              "<Figure size 432x288 with 1 Axes>"
            ],
            "image/png": "[encoded data removed]"
          },
          "metadata": {
            "needs_background": "light"
          }
        }
      ],
      "source": [
        "# I rescale G to have a norm less then 1, otherwise it will not be modelled properly\n",
        "Gnorm = np.linalg.norm(G)\n",
        "eps = 1e-6\n",
        "A = G / (Gnorm + eps)\n",
        "\n",
        "# TODO: create a desired unitary matrix U of twice as bigger size!\n",
        "U = np.zeros(shape=list(d * 2 for d in A.shape), dtype=np.complex128)\n",
        "\n",
        "# TODO: fill the matrix U according to the slide. Let me help to start:\n",
        "h, w = A.shape[0], A.shape[1]\n",
        "U[:h, :w] = A\n",
        "U[h:, w:] = A\n",
        "\n",
        "# note that * symbol on the slide corresponds to \"transposed conjugate\" or just \"dagger\"\n",
        "# for the square matrix root you may use this function:\n",
        "from scipy.linalg import sqrtm\n",
        "\n",
        "# TODO assign the rest\n",
        "I = np.identity(h, dtype=np.complex128)\n",
        "As = A.T.conj() @ A\n",
        "U[:h, w:] = - sqrtm(I - As)  # TODO\n",
        "U[h:, :w] = sqrtm(I - As)  # TODO\n",
        "\n",
        "# check that U(U^†) is identity.\n",
        "plt.imshow((U @ U.T.conj()).real)        # real part\n",
        "plt.show()\n",
        "plt.imshow((-1j * U @ U.T.conj()).real)  # imaginary part"
      ]
    },
    {
      "cell_type": "markdown",
      "id": "a76a9c97",
      "metadata": {
        "id": "a76a9c97"
      },
      "source": [
        "Does it do the job? Mess on the right, but needed picture on the left!"
      ]
    },
    {
      "cell_type": "code",
      "execution_count": 9,
      "id": "20e54565",
      "metadata": {
        "colab": {
          "base_uri": "https://localhost:8080/",
          "height": 283
        },
        "id": "20e54565",
        "outputId": "4d7363a6-f4c7-411a-8f0c-464109419dfe"
      },
      "outputs": [
        {
          "output_type": "execute_result",
          "data": {
            "text/plain": [
              "<BarContainer object of 32 artists>"
            ]
          },
          "metadata": {},
          "execution_count": 9
        },
        {
          "output_type": "display_data",
          "data": {
            "text/plain": [
              "<Figure size 720x288 with 1 Axes>"
            ],
            "image/png": "[encoded data removed]"
          },
          "metadata": {
            "needs_background": "light"
          }
        }
      ],
      "source": [
        "datapadded = np.zeros((data.shape[0] * 2))\n",
        "datapadded[:len(data)] = data\n",
        "plt.figure(figsize=(10, 4))\n",
        "\n",
        "# HERE WE APPLY TRANSFORMATION\n",
        "result = (U @ datapadded).real\n",
        "\n",
        "plt.bar(range(len(datapadded)), result)"
      ]
    },
    {
      "cell_type": "markdown",
      "id": "aa90bd24",
      "metadata": {
        "id": "aa90bd24"
      },
      "source": [
        "## So, what is next? Let us compose a circuit which is doing the same matrix multiplication.\n",
        "### [10] Prepare the data\n",
        "### [40] Construct a ciruit\n",
        "Additional constraints here are:\n",
        "1. We need to norm the vector (to make it a valid statevector).\n",
        "2. We need to use ancilla (to pad the vector with 0s)."
      ]
    },
    {
      "cell_type": "code",
      "execution_count": 10,
      "id": "a15585ef",
      "metadata": {
        "colab": {
          "base_uri": "https://localhost:8080/",
          "height": 339
        },
        "id": "a15585ef",
        "outputId": "c8214696-7c2b-4ad3-cc1e-99ae85fccb9e"
      },
      "outputs": [
        {
          "output_type": "stream",
          "name": "stdout",
          "text": [
            "Data norm, should be exactly 1: 1.0\n"
          ]
        },
        {
          "output_type": "execute_result",
          "data": {
            "text/plain": [
              "<Figure size 899.479x385.28 with 1 Axes>"
            ],
            "image/png": "[encoded data removed]"
          },
          "metadata": {},
          "execution_count": 10
        }
      ],
      "source": [
        "from qiskit import QuantumRegister, ClassicalRegister, QuantumCircuit, execute, BasicAer, transpile\n",
        "from qiskit.visualization import plot_histogram\n",
        "from qiskit.quantum_info.operators import Operator\n",
        "\n",
        "qr = QuantumRegister(4, name=\"v\")       # register for the data\n",
        "qa = QuantumRegister(1, name=\"a\")       # register for ancilla\n",
        "cr = ClassicalRegister(5, name=\"meas\")  # where we measure\n",
        "qc = QuantumCircuit(qr, qa, cr)         # the circuit\n",
        "\n",
        "# the operator should not change the sum. We will keep it for the last step.\n",
        "data_sum = sum(data)\n",
        "\n",
        "normed_data = data / np.linalg.norm(data)\n",
        "data_norm = np.linalg.norm(normed_data) # TODO\n",
        "print(\"Data norm, should be exactly 1:\", data_norm)\n",
        "\n",
        "# TODO your code to create a circuit comes here.\n",
        "# 1. Initialize the state on 0-3 qr qubits.\n",
        "qc.initialize(normed_data, qr[:])\n",
        "\n",
        "# 2. Apply the transformation on qr[:] + qa[:]\n",
        "qc.append(Operator(U), qr[:] + qa[:])\n",
        "\n",
        "# 3. Measure all qubits.\n",
        "qc.measure(qr[:] + qa[:], cr)\n",
        "\n",
        "qc.draw('mpl')"
      ]
    },
    {
      "cell_type": "code",
      "execution_count": 11,
      "id": "df420eac",
      "metadata": {
        "id": "df420eac"
      },
      "outputs": [],
      "source": [
        "qct = transpile(\n",
        "    qc, \n",
        "    BasicAer.get_backend('qasm_simulator'), \n",
        "    basis_gates=['cx', 'x', 'y', 'z', 'rx', 'ry', 'rz', 'u3', 'u2', 'u1', 'h']\n",
        ")"
      ]
    },
    {
      "cell_type": "markdown",
      "id": "58138e2d",
      "metadata": {
        "id": "58138e2d"
      },
      "source": [
        "Just check how big the resulting program is!"
      ]
    },
    {
      "cell_type": "code",
      "execution_count": 12,
      "id": "8cb2132b",
      "metadata": {
        "colab": {
          "base_uri": "https://localhost:8080/"
        },
        "id": "8cb2132b",
        "outputId": "4798828c-af7a-444a-fb52-5343d26ad861"
      },
      "outputs": [
        {
          "output_type": "execute_result",
          "data": {
            "text/plain": [
              "(961, 514)"
            ]
          },
          "metadata": {},
          "execution_count": 12
        }
      ],
      "source": [
        "qct.depth(), qct.count_ops()['cx']\n",
        "# qct.draw('mpl')"
      ]
    },
    {
      "cell_type": "code",
      "execution_count": 13,
      "id": "3a63821f",
      "metadata": {
        "colab": {
          "base_uri": "https://localhost:8080/",
          "height": 302
        },
        "id": "3a63821f",
        "outputId": "ef42a9ec-0cd7-45ce-cc2b-21903c60fb74"
      },
      "outputs": [
        {
          "output_type": "execute_result",
          "data": {
            "text/plain": [
              "<Figure size 720x288 with 1 Axes>"
            ],
            "image/png": "[encoded data removed]"
          },
          "metadata": {},
          "execution_count": 13
        }
      ],
      "source": [
        "counts = execute(\n",
        "    qc, \n",
        "    BasicAer.get_backend('qasm_simulator'), \n",
        "    shots=50000\n",
        ").result().get_counts()\n",
        "plot_histogram(counts, figsize=(10, 4))"
      ]
    },
    {
      "cell_type": "markdown",
      "id": "ce163bc6",
      "metadata": {
        "id": "ce163bc6"
      },
      "source": [
        "## Postprocessing\n",
        "Our data need cleaning!\n",
        "1. It has unnecessary measurements where ancilla is 1.\n",
        "2. The data are in the form of probabilities (basically counts), not amplitudes.\n",
        "3. The data were scaled.\n",
        "\n",
        "Let us unwind the computation:\n",
        "\n",
        "### [10] Remove unnecessary shots from `counts` dict."
      ]
    },
    {
      "cell_type": "code",
      "execution_count": 14,
      "id": "b94acf47",
      "metadata": {
        "colab": {
          "base_uri": "https://localhost:8080/",
          "height": 302
        },
        "id": "b94acf47",
        "outputId": "301fc20c-4b80-4715-9a82-3ff92de785d4"
      },
      "outputs": [
        {
          "output_type": "execute_result",
          "data": {
            "text/plain": [
              "<Figure size 720x288 with 1 Axes>"
            ],
            "image/png": "[encoded data removed]"
          },
          "metadata": {},
          "execution_count": 14
        }
      ],
      "source": [
        "filtered_counts = {k: v for (k, v) in counts.items() if k[0] == '0'} # TODO\n",
        "plot_histogram(filtered_counts, figsize=(10, 4))"
      ]
    },
    {
      "cell_type": "markdown",
      "id": "135124b7",
      "metadata": {
        "id": "135124b7"
      },
      "source": [
        "### [10] Convert counts into amplitudes, and dict into the array.\n",
        "\n",
        "First, retrieve probabilities from the count dict, and write them to the vector `probs`."
      ]
    },
    {
      "cell_type": "code",
      "execution_count": 15,
      "id": "094341a5",
      "metadata": {
        "id": "094341a5"
      },
      "outputs": [],
      "source": [
        "probs = np.zeros((data.shape[0]))\n",
        "total_shots = 0\n",
        "\n",
        "# TODO write PROBABILITIES to the corresponding vector positions\n",
        "# HINT: you may use int(key, base=2)\n",
        "for k, v in filtered_counts.items():\n",
        "    probs[int(k, base=2)] = v\n",
        "total_shots = np.sum(probs)\n",
        "probs /= total_shots "
      ]
    },
    {
      "cell_type": "markdown",
      "id": "99892a0c",
      "metadata": {
        "id": "99892a0c"
      },
      "source": [
        "Second, convert PROBABILITIES into the AMPLITUDES."
      ]
    },
    {
      "cell_type": "code",
      "execution_count": 16,
      "id": "e730ac92",
      "metadata": {
        "colab": {
          "base_uri": "https://localhost:8080/",
          "height": 282
        },
        "id": "e730ac92",
        "outputId": "c7fd123a-d380-4c4c-c8e9-eea72711f641"
      },
      "outputs": [
        {
          "output_type": "execute_result",
          "data": {
            "text/plain": [
              "<BarContainer object of 16 artists>"
            ]
          },
          "metadata": {},
          "execution_count": 16
        },
        {
          "output_type": "display_data",
          "data": {
            "text/plain": [
              "<Figure size 720x288 with 1 Axes>"
            ],
            "image/png": "[encoded data removed]"
          },
          "metadata": {
            "needs_background": "light"
          }
        }
      ],
      "source": [
        "amplitudes = np.sqrt(probs) # TODO\n",
        "plt.figure(figsize=(10, 4))\n",
        "plt.bar(range(len(data)), amplitudes)"
      ]
    },
    {
      "cell_type": "markdown",
      "id": "945dc1bc",
      "metadata": {
        "id": "945dc1bc"
      },
      "source": [
        "# Restore the data sum"
      ]
    },
    {
      "cell_type": "code",
      "execution_count": 17,
      "id": "55828e47",
      "metadata": {
        "colab": {
          "base_uri": "https://localhost:8080/",
          "height": 282
        },
        "id": "55828e47",
        "outputId": "ea479fe7-51c8-4f15-e7ac-b2a5605e9e12"
      },
      "outputs": [
        {
          "output_type": "execute_result",
          "data": {
            "text/plain": [
              "<BarContainer object of 16 artists>"
            ]
          },
          "metadata": {},
          "execution_count": 17
        },
        {
          "output_type": "display_data",
          "data": {
            "text/plain": [
              "<Figure size 720x288 with 1 Axes>"
            ],
            "image/png": "[encoded data removed]"
          },
          "metadata": {
            "needs_background": "light"
          }
        }
      ],
      "source": [
        "finally_data = amplitudes / sum(amplitudes) * data_sum\n",
        "plt.figure(figsize=(10, 4))\n",
        "plt.bar(range(len(data)), finally_data)"
      ]
    }
  ],
  "metadata": {
    "kernelspec": {
      "display_name": "Python 3 (ipykernel)",
      "language": "python",
      "name": "python3"
    },
    "language_info": {
      "codemirror_mode": {
        "name": "ipython",
        "version": 3
      },
      "file_extension": ".py",
      "mimetype": "text/x-python",
      "name": "python",
      "nbconvert_exporter": "python",
      "pygments_lexer": "ipython3",
      "version": "3.9.13"
    },
    "colab": {
      "provenance": [],
      "collapsed_sections": []
    }
  },
  "nbformat": 4,
  "nbformat_minor": 5
}